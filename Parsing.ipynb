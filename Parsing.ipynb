{
 "cells": [
  {
   "cell_type": "markdown",
   "id": "228fa2fb-48b6-426f-909a-45fd8a6c5aac",
   "metadata": {},
   "source": [
    "# Parsing Wikipedia Articles"
   ]
  },
  {
   "cell_type": "markdown",
   "id": "d8ed4a87-317a-4266-a3a1-eb5951ae6e89",
   "metadata": {},
   "source": [
    "In this notebook, we are going to be parsing all of our downloaded wikipedia articles.\n",
    "We'll get to make use of a number of important data science techniques including:\n",
    "- Finding and retrieve online data\n",
    "- Parsing XML using a SAX parser\n",
    "- Parsing Mediawiki content using mwparserfromhell\n",
    "- Running operations in parallel using multiprocessing and multithreading\n"
   ]
  },
  {
   "cell_type": "code",
   "execution_count": 1,
   "id": "ea0fc345-06a4-49ff-bf29-5f868733be51",
   "metadata": {},
   "outputs": [],
   "source": [
    "import requests\n",
    "from bs4 import BeautifulSoup\n",
    "import os"
   ]
  },
  {
   "cell_type": "markdown",
   "id": "4a5c270a-483d-46e1-b95f-96e52ee0d832",
   "metadata": {},
   "source": [
    "## Searching for Wikipedia Download"
   ]
  },
  {
   "cell_type": "code",
   "execution_count": 2,
   "id": "24def9a4-c3ed-49e6-a50b-5f2f9f4ddcd1",
   "metadata": {},
   "outputs": [
    {
     "data": {
      "text/plain": [
       "['../',\n",
       " '20240601/',\n",
       " '20240620/',\n",
       " '20240701/',\n",
       " '20240720/',\n",
       " '20240801/',\n",
       " '20240820/',\n",
       " '20240901/',\n",
       " 'latest/']"
      ]
     },
     "execution_count": 2,
     "metadata": {},
     "output_type": "execute_result"
    }
   ],
   "source": [
    "base_url = 'https://dumps.wikimedia.org/enwiki/'\n",
    "index = requests.get(base_url).text\n",
    "soup_index = BeautifulSoup(index, 'html.parser')\n",
    "\n",
    "dumps = [a['href'] for a in soup_index.find_all('a') if \n",
    "         a.has_attr('href')]\n",
    "dumps"
   ]
  },
  {
   "cell_type": "markdown",
   "id": "b73544af-ee3d-4925-83ec-ddb829978e67",
   "metadata": {},
   "source": [
    "#### This line of code finds the html content of the page for the dump made on the first of August."
   ]
  },
  {
   "cell_type": "code",
   "execution_count": 3,
   "id": "1613c613-22a9-4637-b2e6-fb07ab14aef1",
   "metadata": {},
   "outputs": [
    {
     "data": {
      "text/plain": [
       "'<!DOCTYPE '"
      ]
     },
     "execution_count": 3,
     "metadata": {},
     "output_type": "execute_result"
    }
   ],
   "source": [
    "dump_url = base_url + '20240801/'\n",
    "\n",
    "dump_html = requests.get(dump_url).text\n",
    "dump_html[:10]"
   ]
  },
  {
   "cell_type": "markdown",
   "id": "0fe1cc5e-f9b7-4799-86c6-ce1a22654b19",
   "metadata": {},
   "source": [
    "To find all the individual files, we'll search through the html from the dump identified earlier. We'll look for any files that have **pages_articles** in the text. To parse through html (or other markup languages), we can use Beautiful Soup. This makes searching for particular tags and classes very efficient."
   ]
  },
  {
   "cell_type": "code",
   "execution_count": 4,
   "id": "fd0b7367-7ade-43c1-b448-d4dec12705af",
   "metadata": {},
   "outputs": [
    {
     "data": {
      "text/plain": [
       "[<li class=\"file\"><a href=\"/enwiki/20240801/enwiki-20240801-pages-articles-multistream.xml.bz2\">enwiki-20240801-pages-articles-multistream.xml.bz2</a> 22.2 GB</li>,\n",
       " <li class=\"file\"><a href=\"/enwiki/20240801/enwiki-20240801-pages-articles-multistream-index.txt.bz2\">enwiki-20240801-pages-articles-multistream-index.txt.bz2</a> 250.1 MB</li>,\n",
       " <li class=\"file\"><a href=\"/enwiki/20240801/enwiki-20240801-pages-articles-multistream1.xml-p1p41242.bz2\">enwiki-20240801-pages-articles-multistream1.xml-p1p41242.bz2</a> 269.7 MB</li>,\n",
       " <li class=\"file\"><a href=\"/enwiki/20240801/enwiki-20240801-pages-articles-multistream-index1.txt-p1p41242.bz2\">enwiki-20240801-pages-articles-multistream-index1.txt-p1p41242.bz2</a> 221 KB</li>]"
      ]
     },
     "execution_count": 4,
     "metadata": {},
     "output_type": "execute_result"
    }
   ],
   "source": [
    "soup_dump = BeautifulSoup(dump_html, 'html.parser')\n",
    "\n",
    "soup_dump.find_all('li', {'class': 'file'}, limit = 10)[:4]"
   ]
  },
  {
   "cell_type": "code",
   "execution_count": 5,
   "id": "19ae6b0c-f0e2-440f-b21c-3c1932193324",
   "metadata": {},
   "outputs": [
    {
     "data": {
      "text/plain": [
       "[('enwiki-20240801-pages-articles-multistream.xml.bz2', ['22.2', 'GB']),\n",
       " ('enwiki-20240801-pages-articles-multistream-index.txt.bz2', ['250.1', 'MB']),\n",
       " ('enwiki-20240801-pages-articles-multistream1.xml-p1p41242.bz2',\n",
       "  ['269.7', 'MB']),\n",
       " ('enwiki-20240801-pages-articles-multistream-index1.txt-p1p41242.bz2',\n",
       "  ['221', 'KB']),\n",
       " ('enwiki-20240801-pages-articles-multistream2.xml-p41243p151573.bz2',\n",
       "  ['360.0', 'MB'])]"
      ]
     },
     "execution_count": 5,
     "metadata": {},
     "output_type": "execute_result"
    }
   ],
   "source": [
    "files = []\n",
    "\n",
    "for file in soup_dump.find_all('li', {'class': 'file'}):\n",
    "    text = file.text\n",
    "    if 'pages-articles' in text:\n",
    "        files.append((text.split()[0], text.split()[1:]))\n",
    "        \n",
    "files[:5]"
   ]
  },
  {
   "cell_type": "code",
   "execution_count": 6,
   "id": "1034ec3e-2bc7-4ed2-80de-9f184fff5347",
   "metadata": {},
   "outputs": [
    {
     "data": {
      "text/plain": [
       "['enwiki-20240801-pages-articles27.xml-p71475910p72975909.bz2',\n",
       " 'enwiki-20240801-pages-articles27.xml-p72975910p74475909.bz2',\n",
       " 'enwiki-20240801-pages-articles27.xml-p74475910p75975909.bz2',\n",
       " 'enwiki-20240801-pages-articles27.xml-p75975910p77475909.bz2',\n",
       " 'enwiki-20240801-pages-articles27.xml-p77475910p77508831.bz2']"
      ]
     },
     "execution_count": 6,
     "metadata": {},
     "output_type": "execute_result"
    }
   ],
   "source": [
    "files_to_download = [file[0] for file in files if '.xml-p' in file[0]]\n",
    "files_to_download[-5:]"
   ]
  },
  {
   "cell_type": "code",
   "execution_count": 7,
   "id": "b159867b-8722-4079-9baf-31e9e6b6dab3",
   "metadata": {},
   "outputs": [],
   "source": [
    "import sys\n",
    "from keras.utils import get_file\n",
    "\n",
    "keras_home = 'C:/Users/Mosses Ogbonna/.keras/datasets/'"
   ]
  },
  {
   "cell_type": "code",
   "execution_count": 8,
   "id": "d612095e-87e7-44b2-9374-a254e0a2b68a",
   "metadata": {},
   "outputs": [],
   "source": [
    "data_paths = []\n",
    "file_info = []\n",
    "\n",
    "# Iterate through each file\n",
    "for file in files_to_download:\n",
    "    path = keras_home + file\n",
    "    \n",
    "    # Check to see if the path exists (if the file is already downloaded)\n",
    "    if not os.path.exists(keras_home + file):\n",
    "        print('Downloading')\n",
    "        # If not, download the file\n",
    "        data_paths.append(get_file(file, dump_url))\n",
    "        # Find the file size in MB\n",
    "        file_size = os.stat(path).st_size / 1e6\n",
    "        \n",
    "        # Find the number of articles\n",
    "        file_articles = int(file.split('p')[-1].split('.')[-2]) - int(file.split('p')[-2])\n",
    "        file_info.append((file, file_size, file_articles))\n",
    "        \n",
    "    # If the file is already downloaded find some information\n",
    "    else:\n",
    "        data_paths.append(path)\n",
    "        # Find the file size in MB\n",
    "        file_size = os.stat(path).st_size / 1e6\n",
    "        \n",
    "        # Find the number of articles\n",
    "        file_number = int(file.split('p')[-1].split('.')[-2]) - int(file.split('p')[-2])\n",
    "        file_info.append((file.split('-')[-1], file_size, file_number))"
   ]
  },
  {
   "cell_type": "markdown",
   "id": "6de889d5-a570-48e8-8e52-f1f22bd579f2",
   "metadata": {},
   "source": [
    "What is the largest file? We can use **sorted** to sort by the file size."
   ]
  },
  {
   "cell_type": "code",
   "execution_count": 9,
   "id": "eb7db2a8-590a-48e0-bf80-a9dca0160c07",
   "metadata": {},
   "outputs": [
    {
     "data": {
      "text/plain": [
       "[('p2936261p4045402.bz2', 594.896354, 1109141),\n",
       " ('p4045403p5399366.bz2', 587.651257, 1353963),\n",
       " ('p2936261p4045402.bz2', 577.74861, 1109141),\n",
       " ('p5399367p6899366.bz2', 568.854935, 1499999),\n",
       " ('p4045403p5399366.bz2', 567.40116, 1353963)]"
      ]
     },
     "execution_count": 9,
     "metadata": {},
     "output_type": "execute_result"
    }
   ],
   "source": [
    "sorted(file_info, key = lambda x: x[1], reverse = True)[:5]"
   ]
  },
  {
   "cell_type": "markdown",
   "id": "9c564d47-b627-4d17-ab01-297790029dcc",
   "metadata": {},
   "source": [
    "    These sizes are in MB. It looks like the largest files are about 590 MB compressed"
   ]
  },
  {
   "cell_type": "code",
   "execution_count": 10,
   "id": "112554b9-3735-4e2c-9389-7353453ad7df",
   "metadata": {},
   "outputs": [
    {
     "data": {
      "text/plain": [
       "[('p5399367p6899366.bz2', 568.854935, 1499999),\n",
       " ('p7054860p8554859.bz2', 471.801854, 1499999),\n",
       " ('p9172789p10672788.bz2', 384.774608, 1499999),\n",
       " ('p11659683p13159682.bz2', 465.007963, 1499999),\n",
       " ('p14324603p15824602.bz2', 414.28953, 1499999)]"
      ]
     },
     "execution_count": 10,
     "metadata": {},
     "output_type": "execute_result"
    }
   ],
   "source": [
    "sorted(file_info, key = lambda x: x[2], reverse = True)[:5]"
   ]
  },
  {
   "cell_type": "code",
   "execution_count": 11,
   "id": "f04b81c6-977a-4db8-a66a-b5beb21c417d",
   "metadata": {},
   "outputs": [
    {
     "name": "stdout",
     "output_type": "stream",
     "text": [
      "There are 134 partitions.\n"
     ]
    }
   ],
   "source": [
    "print(f'There are {len(file_info)} partitions.')"
   ]
  },
  {
   "cell_type": "markdown",
   "id": "9ed5bd8d-00b5-4647-952d-c68c933a663a",
   "metadata": {},
   "source": [
    "#### We can put this info into a dataframe to plot the file sizes."
   ]
  },
  {
   "cell_type": "code",
   "execution_count": 12,
   "id": "1e29bc3f-b8c0-4445-9e96-99f8dd9b60cf",
   "metadata": {},
   "outputs": [
    {
     "data": {
      "image/png": "[encoded data removed]",
      "text/plain": [
       "<Figure size 1600x600 with 1 Axes>"
      ]
     },
     "metadata": {},
     "output_type": "display_data"
    }
   ],
   "source": [
    "import pandas as pd\n",
    "import matplotlib.pyplot as plt\n",
    "%matplotlib inline\n",
    "file_df = pd.DataFrame(file_info, columns = ['file', 'size (MB)', 'articles']).set_index('file')\n",
    "file_df['size (MB)'].plot.bar(color = 'red', figsize = (16, 6));"
   ]
  },
  {
   "cell_type": "code",
   "execution_count": 13,
   "id": "cf5ab448-0b85-4494-b0be-ccd0eb106c30",
   "metadata": {},
   "outputs": [
    {
     "name": "stdout",
     "output_type": "stream",
     "text": [
      "The total size of files on disk is 46.619997688999995 GB\n"
     ]
    }
   ],
   "source": [
    "print(f\"The total size of files on disk is {file_df['size (MB)'].sum() / 1e3} GB\")"
   ]
  },
  {
   "cell_type": "markdown",
   "id": "e805f1b7-8f79-42b8-bdc6-74632b7e8929",
   "metadata": {},
   "source": [
    "### Parsing the Data"
   ]
  },
  {
   "cell_type": "markdown",
   "id": "bca1ebc6-57bf-4f92-9f88-a6705016eca8",
   "metadata": {},
   "source": [
    "Together, the files take up 46.6 GB. Decompressed as xml, it's over to 100 GB. We could decompress each file into XML and then parse through it, but we can also parse through a decompressed file iteratively one line at a time. If we are concered about disk space, this is a better option. Working through the compressed file one line at a time also might be the only option in cases where the individual files are too large to fit in memory."
   ]
  },
  {
   "cell_type": "code",
   "execution_count": 14,
   "id": "25dec530-495a-4407-bb80-18f0a7636a61",
   "metadata": {},
   "outputs": [
    {
     "data": {
      "text/plain": [
       "'C:/Users/Mosses Ogbonna/.keras/datasets/enwiki-20240801-pages-articles12.xml-p8554860p9172788.bz2'"
      ]
     },
     "execution_count": 14,
     "metadata": {},
     "output_type": "execute_result"
    }
   ],
   "source": [
    "import bz2\n",
    "import subprocess\n",
    "\n",
    "data_path = data_paths[80]\n",
    "data_path"
   ]
  },
  {
   "cell_type": "markdown",
   "id": "f02201ba-e832-498f-9d49-779b78bc0e96",
   "metadata": {},
   "source": [
    "#### Let's see what kind of data we have"
   ]
  },
  {
   "cell_type": "code",
   "execution_count": 15,
   "id": "51899e23-3f6e-406a-b6eb-1df772df91c2",
   "metadata": {},
   "outputs": [
    {
     "data": {
      "text/plain": [
       "[b'  <page>\\n',\n",
       " b'    <title>Stony Plain Eagles</title>\\n',\n",
       " b'    <ns>0</ns>\\n',\n",
       " b'    <id>8583056</id>\\n',\n",
       " b'    <revision>\\n',\n",
       " b'      <id>1221022323</id>\\n',\n",
       " b'      <parentid>1221022295</parentid>\\n',\n",
       " b'      <timestamp>2024-04-27T10:51:02Z</timestamp>\\n',\n",
       " b'      <contributor>\\n',\n",
       " b'        <username>Oilerator</username>\\n',\n",
       " b'        <id>31851650</id>\\n',\n",
       " b'      </contributor>\\n',\n",
       " b'      <minor />\\n',\n",
       " b'      <origin>1221022323</origin>\\n',\n",
       " b'      <model>wikitext</model>\\n',\n",
       " b'      <format>text/x-wiki</format>\\n',\n",
       " b'      <text bytes=\"6023\" sha1=\"cuj41hiqwx8931pkfj5x6bm2r6os9oh\" xml:space=\"preserve\">{{Cleanup bare URLs|date=August 2022}}\\n',\n",
       " b'{{Infobox Pro hockey team\\n',\n",
       " b'| current     = \\n',\n",
       " b'| team        = Stony Plain Eagles\\n',\n",
       " b'| logo        = Stony Plain Eagles logo.png\\n',\n",
       " b'| logosize    = 220px\\n',\n",
       " b'| city        = [[Stony Plain, Alberta]], Canada\\n',\n",
       " b'| league      = [[Chinook Hockey League]]\\n',\n",
       " b'| conference  = \\n',\n",
       " b'| division    = \\n',\n",
       " b'| founded     = 1930s\\n',\n",
       " b'| operated    = \\n',\n",
       " b'| arena       = Glenn Hall Centennial Arena\\n',\n",
       " b'| colours     = Blue, white, yellow&lt;br /&gt;{{Color box|#05143f|border=darkgray}} {{Color box|#feba35|border=darkgray}} {{Color box|white|border=darkgray}}\\n',\n",
       " b'| owner       = Silent Ice Sports &amp; Entertainment&lt;ref name=&quot;SILENTICE&quot;&gt;{{cite web | url=https://www.silentice.com/content/about | title=About | publisher=Silent Ice Sports &amp; Entertainment | date= | access-date=2022-05-23}}&lt;/ref&gt;\\n',\n",
       " b'| GM          =\\n',\n",
       " b'| coach       = \\n',\n",
       " b'| captain     = \\n',\n",
       " b'| affiliates  = \\n',\n",
       " b'| parentclub  = \\n',\n",
       " b'| farmclub    = \\n',\n",
       " b'| website     = [http://www.stonyplaineagles.com/ Stonyplaineagles.com]\\n',\n",
       " b'| name1   = \\n',\n",
       " b'| dates1  = \\n',\n",
       " b'| name2   = \\n',\n",
       " b'| dates2  = \\n',\n",
       " b'| championships1_type = \\n',\n",
       " b'| championships1      = \\n',\n",
       " b'| reg_season_titles   = \\n',\n",
       " b'| conf_titles         = \\n',\n",
       " b'}}\\n',\n",
       " b'\\n',\n",
       " b\"The '''Stony Plain Eagles''' are a [[senior ice hockey|senior]] [[ice hockey]] team based in [[Stony Plain, Alberta|Stony Plain]], [[Alberta]], Canada.  Founded in the 1930s, the team moved up to the Senior AAA ranks in 1992 and currently play in the [[Chinook Hockey League]]. They are the 1999 [[Allan Cup]] National Senior Champions of Canada.&lt;ref&gt;http://www.assembly.ab.ca/ISYS/LADDAR_files/docs/houserecords/vp/legislature_24/session_3/19990427_1200_01_vp.pdf {{Bare URL PDF|date=March 2022}}&lt;/ref&gt;\\n\",\n",
       " b'\\n',\n",
       " b'==History==\\n',\n",
       " b'In 1987, the Eagles would win both the Alberta and Western Canada Intermediate &quot;A&quot; Championship, but lost the [[Hardy Cup (ice hockey)|Hardy Cup]] Intermediate National Championship in straight games to [[Miramichi, New Brunswick|Miramichi]] Gagnon Packers.&lt;ref&gt;{{Cite web | url=http://www.stonyplaineagles.com/default.aspx?p=theeagles |title = Stony Plain Eagles : Website by RAMP InterActive}}&lt;/ref&gt;&lt;ref&gt;{{Cite web |url=http://www.miramichitimberwolves.ca/team/coaches-staff/ |title=Coaches &amp; Staff - Miramichi Timberwolves |access-date=2015-03-16 |archive-date=2015-04-02 |archive-url=https://web.archive.org/web/20150402121227/http://www.miramichitimberwolves.ca/team/coaches-staff/ |url-status=dead }}&lt;/ref&gt;\\n',\n",
       " b'\\n',\n",
       " b'From 1992 until 2003, the Eagles captured twelve consecutive Alberta Senior AAA Provincial Championships and reached six [[Allan Cup]] finals.&lt;ref&gt;{{Cite web | url=http://www.stonyplainreporter.com/2014/12/01/former-eagles-players-buy-team-replace-coaches-after-1-5-start |title = Former Eagles players buy team, replace coaches after 1-5 start|date = December 2014}}&lt;/ref&gt;  They won one title, as the host team, in 1999.&lt;ref&gt;http://www.hockeycanada.ca/en-ca/National-Championships/Men/Allan-Cup/1999/Home&lt;/ref&gt;\\n',\n",
       " b'\\n',\n",
       " b'The Eagles hosted the Allan Cup in 2007,&lt;ref&gt;{{cite web |url=http://www.bentleygenerals.ca/leagues/custom_page.cfm?clientid=5256&amp;leagueid=19826&amp;pageid=12048 |title=Archived copy |access-date=2013-04-21 |url-status=dead |archive-url=https://web.archive.org/web/20140427154626/http://www.bentleygenerals.ca/leagues/custom_page.cfm?clientid=5256&amp;leagueid=19826&amp;pageid=12048 |archive-date=2014-04-27 }}&lt;/ref&gt; the third time since 1992.\\n',\n",
       " b'\\n',\n",
       " b'==Season-by-season record==\\n',\n",
       " b\"'''''Note:''' GP = Games played, W = Wins, L = Losses, T = Ties, OTL = Overtime losses, Pts = Points, GF = Goals for, GA = Goals against\\n\",\n",
       " b'\\n',\n",
       " b'{|class=&quot;wikitable&quot;\\n',\n",
       " b'|- align=&quot;center&quot;  bgcolor=&quot;#dddddd&quot;\\n',\n",
       " b\"|'''Season'''\\t||'''GP''' || '''W''' || '''L''' || '''T''' || '''OTL''' || '''GF''' ||\\t'''GA''' || '''P''' || '''Results'''\\n\",\n",
       " b'|- align=&quot;center&quot;\\n',\n",
       " b'|2000-01\\t||24    ||20   ||3    ||0   ||-    ||149   ||56     ||42\\t||1st ChHL\\n',\n",
       " b'|- align=&quot;center&quot;\\n',\n",
       " b'|2001-02\\t||24    ||22   ||2    ||0   ||-    ||194   ||73     ||44\\t||1st ChHL\\n',\n",
       " b'|- align=&quot;center&quot;\\n',\n",
       " b'|2002-03\\t||24    ||21   ||3    ||0   ||-    ||161   ||51     ||42\\t||1st ChHL\\n',\n",
       " b'|- align=&quot;center&quot;\\n',\n",
       " b'|2003-04\\t||28    ||28   ||0    ||0   ||-    ||199   ||56     ||56\\t||1st ChHL\\n',\n",
       " b'|- align=&quot;center&quot;\\n',\n",
       " b'|2004-05\\t||24    ||17   ||5    ||2   ||-    ||138   ||56     ||36\\t||2nd ChHL\\n',\n",
       " b'|- align=&quot;center&quot;\\n',\n",
       " b'|2005-06\\t||24    ||13   ||9    ||-   ||2    ||121   ||80     ||28\\t||4th ChHL\\n',\n",
       " b'|- align=&quot;center&quot;\\n',\n",
       " b'|2006-07\\t||24    ||19   ||3    ||-   ||2    ||131   ||75     ||40\\t||2nd ChHL\\n',\n",
       " b'|- align=&quot;center&quot;\\n',\n",
       " b'|2007-08\\t||20    ||16   ||3    ||-   ||1    ||111   ||64     ||33\\t||1st ChHL\\n',\n",
       " b'|- align=&quot;center&quot;\\n',\n",
       " b'|2008-09\\t||24    ||20   ||3    ||-   ||1    ||158   ||59     ||41\\t||2nd ChHL\\n',\n",
       " b'|- align=&quot;center&quot;\\n',\n",
       " b'|2009-10\\t||20    ||11   ||7    ||-   ||2    ||118   ||73     ||24        ||3rd ChHL\\n',\n",
       " b'|- align=&quot;center&quot;\\n',\n",
       " b'|2010-11\\t||20    ||9   ||11    ||-   ||0    ||88   ||92     ||20        ||4th ChHL\\n',\n",
       " b'|- align=&quot;center&quot;\\n',\n",
       " b'|2011-12\\t||24    ||13   ||11    ||-   ||0    ||107   ||106     ||28        ||4th ChHL\\n',\n",
       " b'|- align=&quot;center&quot;\\n',\n",
       " b'|2012-13\\t||16    ||4   ||12    ||-   ||0    ||43   ||67     ||8        ||4th ChHL\\n',\n",
       " b'|- align=&quot;center&quot;\\n',\n",
       " b'|2013-14\\t||5    ||2   ||3    ||-   ||0    ||21   ||19     ||4        ||- ChHL\\n',\n",
       " b'|}\\n',\n",
       " b'\\n',\n",
       " b'==[[NHL]] alumni==\\n',\n",
       " b'*[[Gordon Mark]]&lt;ref&gt;{{Cite web | url=http://www.legendsofhockey.net/LegendsOfHockey/jsp/SearchPlayer.jsp?player=10117 |title = Legends of Hockey -- NHL Player Search -- Player -- Gordon Mark}}&lt;/ref&gt;\\n',\n",
       " b\"*[[Ryan Smyth]]&lt;ref&gt;{{Cite web | url=http://globalnews.ca/news/2474718/former-edmonton-oiler-ryan-smyth-laces-up-with-local-mens-senior-league/ |title = Former Edmonton Oiler Ryan Smyth laces up with local men's senior league}}&lt;/ref&gt;\\n\",\n",
       " b'* [[James Black (ice hockey)|James Black]]\\n',\n",
       " b'\\n',\n",
       " b'==See also==\\n',\n",
       " b'*[[List of ice hockey teams in Alberta]]\\n',\n",
       " b'\\n',\n",
       " b'==References==\\n',\n",
       " b'{{Reflist}}\\n',\n",
       " b'*[https://web.archive.org/web/20110716145604/http://www.stonyplaineagles.com/default.aspx?p=eagles Eagles history] @ stonyplaineagles.com\\n',\n",
       " b'*[http://www.provincialchampionships.com/results/index.html Provincial Championships] @ hockey-alberta.ca\\n',\n",
       " b'\\n',\n",
       " b'==External links==\\n',\n",
       " b'*{{Official website|http://www.stonyplaineagles.com/}}\\n',\n",
       " b'\\n',\n",
       " b'{{Chinook Hockey League}}\\n',\n",
       " b'\\n',\n",
       " b'[[Category:Ice hockey teams in Alberta]]\\n',\n",
       " b'[[Category:Senior ice hockey teams]]\\n',\n",
       " b'\\n',\n",
       " b'\\n',\n",
       " b'{{Canada-icehockey-team-stub}}</text>\\n',\n",
       " b'      <sha1>cuj41hiqwx8931pkfj5x6bm2r6os9oh</sha1>\\n',\n",
       " b'    </revision>\\n',\n",
       " b'  </page>\\n']"
      ]
     },
     "execution_count": 15,
     "metadata": {},
     "output_type": "execute_result"
    }
   ],
   "source": [
    "lines = []\n",
    "\n",
    "for i, line in enumerate(bz2.BZ2File(data_path, 'r')):\n",
    "    lines.append(line)\n",
    "    if i > 5e5:\n",
    "        break\n",
    "        \n",
    "lines[-142:-23]"
   ]
  },
  {
   "cell_type": "markdown",
   "id": "2feb0c14-942c-4700-b8c7-5abc7de765e4",
   "metadata": {},
   "source": [
    "    Here we have a complete article. We could go through each file and extract out the articles using regular expressions, but that would be extremely inefficient. Instead, we'll use an XML parser to find the article text that we then will use another parser to extract information from."
   ]
  },
  {
   "cell_type": "markdown",
   "id": "90f3a650-e329-43c4-bd42-5e1d63c58947",
   "metadata": {},
   "source": [
    "## Parsing Approach"
   ]
  },
  {
   "cell_type": "markdown",
   "id": "c8b9ff76-7514-4f1b-b586-2311c63c78bb",
   "metadata": {},
   "source": [
    "In order to get useful information from this data, we have to parse it on two levels.\n",
    "1. Extract the titles and article text from the XML\n",
    "2. Extract relevant information from the article text\n"
   ]
  },
  {
   "cell_type": "code",
   "execution_count": 16,
   "id": "a81ad350-7649-4581-bc1b-3d6851bdc68f",
   "metadata": {},
   "outputs": [],
   "source": [
    "import xml.sax\n",
    "\n",
    "class WikiXmlHandler(xml.sax.handler.ContentHandler):\n",
    "    \"\"\"Content handler for Wiki XML data using SAX\"\"\"\n",
    "    def __init__(self):\n",
    "        xml.sax.handler.ContentHandler.__init__(self)\n",
    "        self._buffer = None\n",
    "        self._values = {}\n",
    "        self._current_tag = None\n",
    "        self._pages = []\n",
    "\n",
    "    def characters(self, content):\n",
    "        \"\"\"Characters between opening and closing tags\"\"\"\n",
    "        if self._current_tag:\n",
    "            self._buffer.append(content)\n",
    "\n",
    "    def startElement(self, name, attrs):\n",
    "        \"\"\"Opening tag of element\"\"\"\n",
    "        if name in ('title', 'text', 'timestamp'):\n",
    "            self._current_tag = name\n",
    "            self._buffer = []\n",
    "\n",
    "    def endElement(self, name):\n",
    "        \"\"\"Closing tag of element\"\"\"\n",
    "        if name == self._current_tag:\n",
    "            self._values[name] = ' '.join(self._buffer)\n",
    "\n",
    "        if name == 'page':\n",
    "            self._pages.append((self._values['title'], self._values['text']))"
   ]
  },
  {
   "cell_type": "markdown",
   "id": "23aeb6a4-d71c-4865-8422-e72ae19820cb",
   "metadata": {},
   "source": [
    "    The Content handler looks for certain start tags, and when it finds one, it adds characters to the buffer until it encouters the same end tag. Then it saves the buffer content to a dictionary with the tag as key. We are overriding a few of the default SAX ContentHandler methods in order to do what we want: find the titles and texts in the XML.\n",
    "\n",
    "    The text of Wikipedia articles starts and ends with the <text> tag and the entire article starts and ends with the <page> tag. The <timestamp> tag records the last edit of the page."
   ]
  },
  {
   "cell_type": "markdown",
   "id": "f069e2e9-bb02-48cc-9f07-28e9cd7a6a51",
   "metadata": {},
   "source": [
    "Next, we need to create a **handler** object of the **WikiXMLHandler** class. Then we pass the handler in as the content handler to a **SAX** parser."
   ]
  },
  {
   "cell_type": "code",
   "execution_count": 17,
   "id": "144d132a-af51-47b1-a48d-f243cb1ffb18",
   "metadata": {},
   "outputs": [
    {
     "data": {
      "text/plain": [
       "[]"
      ]
     },
     "execution_count": 17,
     "metadata": {},
     "output_type": "execute_result"
    }
   ],
   "source": [
    "handler = WikiXmlHandler()\n",
    "\n",
    "parser = xml.sax.make_parser()\n",
    "parser.setContentHandler(handler)\n",
    "\n",
    "handler._pages"
   ]
  },
  {
   "cell_type": "markdown",
   "id": "509024b5-b747-4805-89b5-98ea92f17cf1",
   "metadata": {},
   "source": [
    "Let's work through a single article. We **feed** in one line of XML at a time to the **parser**. It searches the XML for the tags using the methods in the handler. The correct data is then stored in the handler (later we'll pass the **text** on to another parser)."
   ]
  },
  {
   "cell_type": "code",
   "execution_count": 18,
   "id": "0af61889-9117-4fa5-89a4-8054b3b67e60",
   "metadata": {},
   "outputs": [],
   "source": [
    "for l in lines[-142:-23]:\n",
    "    parser.feed(l)"
   ]
  },
  {
   "cell_type": "code",
   "execution_count": 19,
   "id": "5d0cd87a-adcf-40fc-9a7b-17a5829c755e",
   "metadata": {},
   "outputs": [
    {
     "data": {
      "text/plain": [
       "[('Stony Plain Eagles',\n",
       "  '{{Cleanup bare URLs|date=August 2022}} \\n {{Infobox Pro hockey team \\n | current     =  \\n | team        = Stony Plain Eagles \\n | logo        = Stony Plain Eagles logo.png \\n | logosize    = 220px \\n | city        = [[Stony Plain, Alberta]], Canada \\n | league      = [[Chinook Hockey League]] \\n | conference  =  \\n | division    =  \\n | founded     = 1930s \\n | operated    =  \\n | arena       = Glenn Hall Centennial Arena \\n | colours     = Blue, white, yellow < br / > {{Color box|#05143f|border=darkgray}} {{Color box|#feba35|border=darkgray}} {{Color box|white|border=darkgray}} \\n | owner       = Silent Ice Sports  &  Entertainment < ref name= \" SILENTICE \" > {{cite web | url=https://www.silentice.com/content/about | title=About | publisher=Silent Ice Sports  &  Entertainment | date= | access-date=2022-05-23}} < /ref > \\n | GM          = \\n | coach       =  \\n | captain     =  \\n | affiliates  =  \\n | parentclub  =  \\n | farmclub    =  \\n | website     = [http://www.stonyplaineagles.com/ Stonyplaineagles.com] \\n | name1   =  \\n | dates1  =  \\n | name2   =  \\n | dates2  =  \\n | championships1_type =  \\n | championships1      =  \\n | reg_season_titles   =  \\n | conf_titles         =  \\n }} \\n \\n The \\'\\'\\'Stony Plain Eagles\\'\\'\\' are a [[senior ice hockey|senior]] [[ice hockey]] team based in [[Stony Plain, Alberta|Stony Plain]], [[Alberta]], Canada.  Founded in the 1930s, the team moved up to the Senior AAA ranks in 1992 and currently play in the [[Chinook Hockey League]]. They are the 1999 [[Allan Cup]] National Senior Champions of Canada. < ref > http://www.assembly.ab.ca/ISYS/LADDAR_files/docs/houserecords/vp/legislature_24/session_3/19990427_1200_01_vp.pdf {{Bare URL PDF|date=March 2022}} < /ref > \\n \\n ==History== \\n In 1987, the Eagles would win both the Alberta and Western Canada Intermediate  \" A \"  Championship, but lost the [[Hardy Cup (ice hockey)|Hardy Cup]] Intermediate National Championship in straight games to [[Miramichi, New Brunswick|Miramichi]] Gagnon Packers. < ref > {{Cite web | url=http://www.stonyplaineagles.com/default.aspx?p=theeagles |title = Stony Plain Eagles : Website by RAMP InterActive}} < /ref > < ref > {{Cite web |url=http://www.miramichitimberwolves.ca/team/coaches-staff/ |title=Coaches  &  Staff - Miramichi Timberwolves |access-date=2015-03-16 |archive-date=2015-04-02 |archive-url=https://web.archive.org/web/20150402121227/http://www.miramichitimberwolves.ca/team/coaches-staff/ |url-status=dead }} < /ref > \\n \\n From 1992 until 2003, the Eagles captured twelve consecutive Alberta Senior AAA Provincial Championships and reached six [[Allan Cup]] finals. < ref > {{Cite web | url=http://www.stonyplainreporter.com/2014/12/01/former-eagles-players-buy-team-replace-coaches-after-1-5-start |title = Former Eagles players buy team, replace coaches after 1-5 start|date = December 2014}} < /ref >   They won one title, as the host team, in 1999. < ref > http://www.hockeycanada.ca/en-ca/National-Championships/Men/Allan-Cup/1999/Home < /ref > \\n \\n The Eagles hosted the Allan Cup in 2007, < ref > {{cite web |url=http://www.bentleygenerals.ca/leagues/custom_page.cfm?clientid=5256 & leagueid=19826 & pageid=12048 |title=Archived copy |access-date=2013-04-21 |url-status=dead |archive-url=https://web.archive.org/web/20140427154626/http://www.bentleygenerals.ca/leagues/custom_page.cfm?clientid=5256 & leagueid=19826 & pageid=12048 |archive-date=2014-04-27 }} < /ref >  the third time since 1992. \\n \\n ==Season-by-season record== \\n \\'\\'\\'\\'\\'Note:\\'\\'\\' GP = Games played, W = Wins, L = Losses, T = Ties, OTL = Overtime losses, Pts = Points, GF = Goals for, GA = Goals against \\n \\n {|class= \" wikitable \" \\n |- align= \" center \"   bgcolor= \" #dddddd \" \\n |\\'\\'\\'Season\\'\\'\\'\\t||\\'\\'\\'GP\\'\\'\\' || \\'\\'\\'W\\'\\'\\' || \\'\\'\\'L\\'\\'\\' || \\'\\'\\'T\\'\\'\\' || \\'\\'\\'OTL\\'\\'\\' || \\'\\'\\'GF\\'\\'\\' ||\\t\\'\\'\\'GA\\'\\'\\' || \\'\\'\\'P\\'\\'\\' || \\'\\'\\'Results\\'\\'\\' \\n |- align= \" center \" \\n |2000-01\\t||24    ||20   ||3    ||0   ||-    ||149   ||56     ||42\\t||1st ChHL \\n |- align= \" center \" \\n |2001-02\\t||24    ||22   ||2    ||0   ||-    ||194   ||73     ||44\\t||1st ChHL \\n |- align= \" center \" \\n |2002-03\\t||24    ||21   ||3    ||0   ||-    ||161   ||51     ||42\\t||1st ChHL \\n |- align= \" center \" \\n |2003-04\\t||28    ||28   ||0    ||0   ||-    ||199   ||56     ||56\\t||1st ChHL \\n |- align= \" center \" \\n |2004-05\\t||24    ||17   ||5    ||2   ||-    ||138   ||56     ||36\\t||2nd ChHL \\n |- align= \" center \" \\n |2005-06\\t||24    ||13   ||9    ||-   ||2    ||121   ||80     ||28\\t||4th ChHL \\n |- align= \" center \" \\n |2006-07\\t||24    ||19   ||3    ||-   ||2    ||131   ||75     ||40\\t||2nd ChHL \\n |- align= \" center \" \\n |2007-08\\t||20    ||16   ||3    ||-   ||1    ||111   ||64     ||33\\t||1st ChHL \\n |- align= \" center \" \\n |2008-09\\t||24    ||20   ||3    ||-   ||1    ||158   ||59     ||41\\t||2nd ChHL \\n |- align= \" center \" \\n |2009-10\\t||20    ||11   ||7    ||-   ||2    ||118   ||73     ||24        ||3rd ChHL \\n |- align= \" center \" \\n |2010-11\\t||20    ||9   ||11    ||-   ||0    ||88   ||92     ||20        ||4th ChHL \\n |- align= \" center \" \\n |2011-12\\t||24    ||13   ||11    ||-   ||0    ||107   ||106     ||28        ||4th ChHL \\n |- align= \" center \" \\n |2012-13\\t||16    ||4   ||12    ||-   ||0    ||43   ||67     ||8        ||4th ChHL \\n |- align= \" center \" \\n |2013-14\\t||5    ||2   ||3    ||-   ||0    ||21   ||19     ||4        ||- ChHL \\n |} \\n \\n ==[[NHL]] alumni== \\n *[[Gordon Mark]] < ref > {{Cite web | url=http://www.legendsofhockey.net/LegendsOfHockey/jsp/SearchPlayer.jsp?player=10117 |title = Legends of Hockey -- NHL Player Search -- Player -- Gordon Mark}} < /ref > \\n *[[Ryan Smyth]] < ref > {{Cite web | url=http://globalnews.ca/news/2474718/former-edmonton-oiler-ryan-smyth-laces-up-with-local-mens-senior-league/ |title = Former Edmonton Oiler Ryan Smyth laces up with local men\\'s senior league}} < /ref > \\n * [[James Black (ice hockey)|James Black]] \\n \\n ==See also== \\n *[[List of ice hockey teams in Alberta]] \\n \\n ==References== \\n {{Reflist}} \\n *[https://web.archive.org/web/20110716145604/http://www.stonyplaineagles.com/default.aspx?p=eagles Eagles history] @ stonyplaineagles.com \\n *[http://www.provincialchampionships.com/results/index.html Provincial Championships] @ hockey-alberta.ca \\n \\n ==External links== \\n *{{Official website|http://www.stonyplaineagles.com/}} \\n \\n {{Chinook Hockey League}} \\n \\n [[Category:Ice hockey teams in Alberta]] \\n [[Category:Senior ice hockey teams]] \\n \\n \\n {{Canada-icehockey-team-stub}}')]"
      ]
     },
     "execution_count": 19,
     "metadata": {},
     "output_type": "execute_result"
    }
   ],
   "source": [
    "handler._pages"
   ]
  },
  {
   "cell_type": "markdown",
   "id": "be20406e-22ec-4154-9611-ea0671693fa0",
   "metadata": {},
   "source": [
    "    We have successfully extracted one page! Once we have the page text, we need to process it as well to find the information we want. We'll write that function next. First, let's see this process again, this time finding three different articles."
   ]
  },
  {
   "cell_type": "code",
   "execution_count": 20,
   "id": "913ad6c3-09a9-4989-9b6e-2a08aa953b95",
   "metadata": {},
   "outputs": [
    {
     "name": "stdout",
     "output_type": "stream",
     "text": [
      "['Chestnut Ridge Middle School', 'Colegio de Santa Cruz de Tlatelolco', 'Template:US-gov-bio-stub']\n"
     ]
    }
   ],
   "source": [
    "handler = WikiXmlHandler()\n",
    "\n",
    "parser = xml.sax.make_parser()\n",
    "parser.setContentHandler(handler)\n",
    "\n",
    "for i, line in enumerate(bz2.BZ2File(data_path, 'r')):\n",
    "    parser.feed(line)\n",
    "    \n",
    "    if len(handler._pages) > 2:\n",
    "        break\n",
    "        \n",
    "print([x[0] for x in handler._pages])"
   ]
  },
  {
   "cell_type": "markdown",
   "id": "9924ac53-924c-433f-85d5-0861d9e6d8ef",
   "metadata": {},
   "source": [
    "## Parsing Articles"
   ]
  },
  {
   "cell_type": "markdown",
   "id": "f838dfa2-a176-4569-ba39-04be624824d5",
   "metadata": {},
   "source": [
    "The text of the articles themselves is processed using the **mwparserfromhell**. Although the text may simple look like a Python string, there is far more information contained in the formatting of the **text** than just the information we can see.\n",
    "\n",
    "First we'll find a number of articles using the **WikiXmlHandler** and a SAX parser."
   ]
  },
  {
   "cell_type": "code",
   "execution_count": 21,
   "id": "0063b408-aea1-406c-80c2-d583b80131cd",
   "metadata": {},
   "outputs": [],
   "source": [
    "handler = WikiXmlHandler()\n",
    "\n",
    "parser = xml.sax.make_parser()\n",
    "parser.setContentHandler(handler)\n",
    "\n",
    "for i, line in enumerate(bz2.BZ2File(data_path, 'r')):\n",
    "    parser.feed(line)\n",
    "    \n",
    "    # Stop when 50 articles have been found\n",
    "    if len(handler._pages) > 50:\n",
    "        break"
   ]
  },
  {
   "cell_type": "markdown",
   "id": "f1178661-9c64-4af9-8b4f-08c8a8d1b08c",
   "metadata": {},
   "source": [
    "#### To create a **wiki** representation of the text, we pass the Wikipedia article text to the **mwparserfromhell**."
   ]
  },
  {
   "cell_type": "code",
   "execution_count": 22,
   "id": "631efb57-141c-4ded-8414-cfa65adc2703",
   "metadata": {},
   "outputs": [
    {
     "name": "stdout",
     "output_type": "stream",
     "text": [
      "Shuo Wang\n"
     ]
    }
   ],
   "source": [
    "import mwparserfromhell \n",
    "\n",
    "print(handler._pages[6][0])\n",
    "\n",
    "wiki = mwparserfromhell.parse(handler._pages[6][1])"
   ]
  },
  {
   "cell_type": "code",
   "execution_count": 23,
   "id": "9a759f30-1bb5-4c04-aa05-0178f453aa43",
   "metadata": {},
   "outputs": [
    {
     "name": "stdout",
     "output_type": "stream",
     "text": [
      "<class 'mwparserfromhell.wikicode.Wikicode'>\n"
     ]
    },
    {
     "data": {
      "text/plain": [
       "'#REDIRECT [[Wang Shuo]]'"
      ]
     },
     "execution_count": 23,
     "metadata": {},
     "output_type": "execute_result"
    }
   ],
   "source": [
    "print(type(wiki))\n",
    "wiki[:100]"
   ]
  },
  {
   "cell_type": "code",
   "execution_count": 24,
   "id": "4d9a849d-3025-4ad9-8177-515ec5c86d43",
   "metadata": {},
   "outputs": [
    {
     "name": "stdout",
     "output_type": "stream",
     "text": [
      "There are 1 wikilinks.\n"
     ]
    },
    {
     "data": {
      "text/plain": [
       "['Wang Shuo']"
      ]
     },
     "execution_count": 24,
     "metadata": {},
     "output_type": "execute_result"
    }
   ],
   "source": [
    "wikilinks = [x.title for x in wiki.filter_wikilinks()]\n",
    "print(f'There are {len(wikilinks)} wikilinks.')\n",
    "wikilinks[:5]"
   ]
  },
  {
   "cell_type": "code",
   "execution_count": 25,
   "id": "6a41e6fd-9ab3-471c-85bf-0f0059f72bbc",
   "metadata": {},
   "outputs": [
    {
     "data": {
      "text/plain": [
       "[]"
      ]
     },
     "execution_count": 25,
     "metadata": {},
     "output_type": "execute_result"
    }
   ],
   "source": [
    "wiki.filter_arguments()"
   ]
  },
  {
   "cell_type": "code",
   "execution_count": 26,
   "id": "39446b25-8b71-4c8a-abc6-1e95014c0bb0",
   "metadata": {},
   "outputs": [
    {
     "data": {
      "text/plain": [
       "[]"
      ]
     },
     "execution_count": 26,
     "metadata": {},
     "output_type": "execute_result"
    }
   ],
   "source": [
    "wiki.filter_comments()"
   ]
  },
  {
   "cell_type": "markdown",
   "id": "c323cf81-bc9d-4306-9510-2e05a7b2102c",
   "metadata": {},
   "source": [
    "    To figure out everything you can do with mwparserfromhell, read the docs: https://mwparserfromhell.readthedocs.io/en/latest/"
   ]
  },
  {
   "cell_type": "code",
   "execution_count": 27,
   "id": "3f062a0f-891f-4411-8133-7ddff534b34c",
   "metadata": {},
   "outputs": [
    {
     "name": "stdout",
     "output_type": "stream",
     "text": [
      "There are 0 external links.\n"
     ]
    },
    {
     "data": {
      "text/plain": [
       "[]"
      ]
     },
     "execution_count": 27,
     "metadata": {},
     "output_type": "execute_result"
    }
   ],
   "source": [
    "external_links = [(x.title, x.url) for x in wiki.filter_external_links()]\n",
    "print(f'There are {len(external_links)} external links.')\n",
    "external_links[:5]"
   ]
  },
  {
   "cell_type": "code",
   "execution_count": 28,
   "id": "2487350d-62f5-43c9-b4bd-78b8374a4c4f",
   "metadata": {},
   "outputs": [
    {
     "data": {
      "text/plain": [
       "'REDIRECT Wang Shuo'"
      ]
     },
     "execution_count": 28,
     "metadata": {},
     "output_type": "execute_result"
    }
   ],
   "source": [
    "wiki.strip_code().strip()[:100]"
   ]
  },
  {
   "cell_type": "code",
   "execution_count": 29,
   "id": "e47ee32a-69ae-4ef1-9086-295f813dcc3e",
   "metadata": {},
   "outputs": [],
   "source": [
    "import re\n",
    "\n",
    "def process_article(title, text, timestamp, template = 'Infobox book'):\n",
    "    \n",
    "    wikicode = mwparserfromhell.parse(text)\n",
    "    \n",
    "    matches = wikicode.filter_templates(matches = template)\n",
    "    \n",
    "    matches = [x for x in matches if x.name.strip_code().strip().lower() == template.lower()]\n",
    "    \n",
    "    if len(matches) >= 1:\n",
    "\n",
    "        properties = {param.name.strip_code().strip(): param.value.strip_code().strip() \n",
    "                      for param in matches[0].params\n",
    "                      if param.value.strip_code().strip()}\n",
    "\n",
    "        wikilinks = [x.title.strip_code().strip() for x in wikicode.filter_wikilinks()]\n",
    "\n",
    "        exlinks = [x.url.strip_code().strip() for x in wikicode.filter_external_links()]\n",
    "\n",
    "        text_length = len(wikicode.strip_code().strip())\n",
    "\n",
    "        return (title, properties, wikilinks, exlinks, timestamp, text_length)"
   ]
  },
  {
   "cell_type": "markdown",
   "id": "c99a33c8-975b-4b47-af35-b3a954f48d7c",
   "metadata": {},
   "source": [
    "### Modified Content Handler\n",
    "\n",
    "To parse the text from each article and search for the specified template, we slightly modify the **Handler** class. This time, in the **endElement** function, if the article ends (the tag is **page**) then we send the title and the contents (**text**) to the **process_article** function. This function will return either nothing if it doesn't find a book, or the book properties, Wikilinks, and external links if it does find a book. These will be added as a list to the **handler**."
   ]
  },
  {
   "cell_type": "code",
   "execution_count": 30,
   "id": "3821e920-dd80-4da3-9a89-17c4309b2c63",
   "metadata": {},
   "outputs": [],
   "source": [
    "class WikiXmlHandler(xml.sax.handler.ContentHandler):\n",
    "    def __init__(self):\n",
    "        xml.sax.handler.ContentHandler.__init__(self)\n",
    "        self._buffer = None\n",
    "        self._values = {}\n",
    "        self._current_tag = None\n",
    "        self._books = []\n",
    "        self._article_count = 0\n",
    "        self._non_matches = []\n",
    "\n",
    "    def characters(self, content):\n",
    "        if self._current_tag:\n",
    "            self._buffer.append(content)\n",
    "\n",
    "    def startElement(self, name, attrs):\n",
    "        if name in ('title', 'text', 'timestamp'):\n",
    "            self._current_tag = name\n",
    "            self._buffer = []\n",
    "\n",
    "    def endElement(self, name):\n",
    "        if name == self._current_tag:\n",
    "            self._values[name] = ' '.join(self._buffer)\n",
    "\n",
    "        if name == 'page':\n",
    "            self._article_count += 1\n",
    "            book = process_article(**self._values, template = 'Infobox book')\n",
    "            if book:\n",
    "                self._books.append(book)"
   ]
  },
  {
   "cell_type": "markdown",
   "id": "77718af4-0134-42f6-b249-392599f1f204",
   "metadata": {},
   "source": [
    "To use this for a different category of articles on Wikipedia, all you need to do is change the template. You can also alter the **process_article** function if you want to return different information for each article.\n",
    "\n",
    "Now let's see if this works. The code below stops when we've found 3 books."
   ]
  },
  {
   "cell_type": "code",
   "execution_count": 31,
   "id": "6c40990f-8b0c-4e68-b1a8-7510999b38b7",
   "metadata": {},
   "outputs": [
    {
     "name": "stdout",
     "output_type": "stream",
     "text": [
      "Searched through 1546 articles to find 3 books.\n"
     ]
    }
   ],
   "source": [
    "handler = WikiXmlHandler()\n",
    "\n",
    "parser = xml.sax.make_parser()\n",
    "parser.setContentHandler(handler)\n",
    "\n",
    "for i, line in enumerate(bz2.BZ2File(data_path, 'r')):\n",
    "    parser.feed(line)\n",
    "    \n",
    "    # Stop when 3 articles have been found\n",
    "    if len(handler._books) > 2:\n",
    "        break\n",
    "        \n",
    "print(f'Searched through {handler._article_count} articles to find 3 books.')"
   ]
  },
  {
   "cell_type": "code",
   "execution_count": 32,
   "id": "43b93e19-b3f2-4277-ba97-674d822670b1",
   "metadata": {},
   "outputs": [
    {
     "data": {
      "text/plain": [
       "('Celsius 7/7',\n",
       " {'italic title': '< !--(see above)-- >',\n",
       "  'name': 'Celsius 7/7',\n",
       "  'image': 'Celsius 7-7.jpg',\n",
       "  'image_size': '250px',\n",
       "  'author': 'Michael Gove',\n",
       "  'country': 'United Kingdom',\n",
       "  'language': 'English',\n",
       "  'subject': 'Islamic terrorism',\n",
       "  'publisher': 'Weidenfeld  &  Nicolson',\n",
       "  'published': 'June 29, 2006',\n",
       "  'pages': '153',\n",
       "  'isbn': '0-297-85146-2'},\n",
       " ['Michael Gove',\n",
       "  'Islamic terrorism',\n",
       "  'Weidenfeld  &  Nicolson',\n",
       "  'Conservative Party (UK)',\n",
       "  'Michael Gove',\n",
       "  'Islamic terrorism',\n",
       "  'Weidenfeld  &  Nicolson',\n",
       "  'Orion Publishing Group',\n",
       "  'Islamism',\n",
       "  'Nazism',\n",
       "  'Communism',\n",
       "  'Michael Gove',\n",
       "  'Andrew Pierce',\n",
       "  'The Daily Telegraph',\n",
       "  \"Her Majesty's Government\",\n",
       "  'The Times Literary Supplement',\n",
       "  'Literary Review',\n",
       "  'Walter Laqueur',\n",
       "  'Michael Burleigh',\n",
       "  'Damian Thompson',\n",
       "  'The Daily Telegraph',\n",
       "  'Manichaean#Figurative use',\n",
       "  'William Dalrymple (historian)',\n",
       "  'Melanie Phillips',\n",
       "  'Stephen Pollard',\n",
       "  'Fahrenheit 9/11',\n",
       "  'Islamophobia in the UK Conservative Party',\n",
       "  'Category:2006 non-fiction books',\n",
       "  'Category:Books about Islamism',\n",
       "  'Category:Books about terrorism',\n",
       "  'Category:Books about the Middle East',\n",
       "  'Category:English non-fiction books',\n",
       "  'Category:Weidenfeld  &  Nicolson books'],\n",
       " ['https://web.archive.org/web/20071113114513/http://www.telegraph.co.uk/news/main.jhtml?xml=/news/2006/12/18/ntory218.xml',\n",
       "  'https://www.theguardian.com/books/2006/sep/09/shopping.politics2',\n",
       "  'https://www.telegraph.co.uk/culture/books/3654434/Democracy-is-the-solution.html',\n",
       "  'https://inews.co.uk/news/politics/baroness-warsi-tory-party-poisoned-islamophobia-every-level/',\n",
       "  'http://entertainment.timesonline.co.uk/tol/arts_and_entertainment/books/non-fiction/article645300.ece',\n",
       "  'https://web.archive.org/web/20070312193853/http://entertainment.timesonline.co.uk/tol/arts_and_entertainment/books/non-fiction/article645300.ece',\n",
       "  'http://www.melaniephillips.com/diary/?p=1341',\n",
       "  'https://web.archive.org/web/20061022034601/http://www.melaniephillips.com/diary/?p=1341',\n",
       "  'http://www.stephenpollard.net/002929.html',\n",
       "  'https://web.archive.org/web/20070927021649/http://www.stephenpollard.net/002929.html',\n",
       "  'http://www.timesonline.co.uk/article/0,,1055-2375891.html',\n",
       "  'http://www.timesonline.co.uk/article/0,,8802-2240635,00.html',\n",
       "  'http://www.timesonline.co.uk/article/0,,8802-2243871,00.html'],\n",
       " '2023-08-10T12:36:48Z',\n",
       " 3542)"
      ]
     },
     "execution_count": 32,
     "metadata": {},
     "output_type": "execute_result"
    }
   ],
   "source": [
    "handler._books[0]"
   ]
  },
  {
   "cell_type": "code",
   "execution_count": 33,
   "id": "e554768c-5461-4ad6-b4ac-60306087cc25",
   "metadata": {},
   "outputs": [
    {
     "name": "stdout",
     "output_type": "stream",
     "text": [
      "Already uncompressed\n"
     ]
    }
   ],
   "source": [
    "import os\n",
    "import bz2\n",
    "\n",
    "input_path = 'C:/Users/Mosses Ogbonna/.keras/datasets/enwiki-20240801-pages-articles12.xml-p8554860p9172788.bz2'\n",
    "output_path = 'C:/Users/Mosses Ogbonna/.keras/datasets/p12.xml'\n",
    "\n",
    "if not os.path.exists(output_path):\n",
    "    with bz2.BZ2File(input_path, 'rb') as input_file, open(output_path, 'wb') as output_file:\n",
    "        output_file.write(input_file.read())\n",
    "    print('Decompressed successfully')\n",
    "else:\n",
    "    print('Already uncompressed')"
   ]
  },
  {
   "cell_type": "code",
   "execution_count": 34,
   "id": "9dc87862-aeb7-440f-8a7c-77939aa4c3db",
   "metadata": {},
   "outputs": [
    {
     "name": "stdout",
     "output_type": "stream",
     "text": [
      "Processed 10780000 lines so far.\n",
      "Searched through 167757 articles.\n",
      "\n",
      "Found 725 books in 667 seconds.\n"
     ]
    }
   ],
   "source": [
    "from timeit import default_timer as timer\n",
    "\n",
    "start = timer()\n",
    "handler = WikiXmlHandler()\n",
    "\n",
    "parser = xml.sax.make_parser()\n",
    "parser.setContentHandler(handler)\n",
    "\n",
    "for i, line in enumerate(bz2.BZ2File(data_path, 'r')):\n",
    "    if (i + 1) % 10000 == 0:\n",
    "        print(f'Processed {i + 1} lines so far.', end = '\\r')\n",
    "    try:\n",
    "        parser.feed(line)\n",
    "    except StopIteration:\n",
    "        break\n",
    "    \n",
    "end = timer()\n",
    "books = handler._books\n",
    "\n",
    "print(f'\\nSearched through {handler._article_count} articles.')\n",
    "print(f'\\nFound {len(books)} books in {round(end - start)} seconds.')"
   ]
  },
  {
   "cell_type": "markdown",
   "id": "53b591a3-9887-495a-96ff-82ea43a13b43",
   "metadata": {},
   "source": [
    "### Writing to File\n",
    "\n",
    "The best way to save the information is as **ndjson**. We can save and then load back in the books using the **json** library."
   ]
  },
  {
   "cell_type": "code",
   "execution_count": 35,
   "id": "59e16ec4-8e12-4b48-9e10-7f27e6bddda9",
   "metadata": {},
   "outputs": [],
   "source": [
    "import json\n",
    "\n",
    "with open('C:/Users/Mosses Ogbonna/Documents/data/p12_books.ndjson', 'wt') as fout:\n",
    "    for l in books:\n",
    "        fout.write(json.dumps(l) + '\\n')"
   ]
  },
  {
   "cell_type": "code",
   "execution_count": 36,
   "id": "0f913c28-5e2d-443a-90f9-07107e4b9b46",
   "metadata": {},
   "outputs": [],
   "source": [
    "books_in = []\n",
    "\n",
    "with open('C:/Users/Mosses Ogbonna/Documents/data/p12_books.ndjson', 'rt') as fin:\n",
    "    for l in fin.readlines():\n",
    "        books_in.append(json.loads(l))"
   ]
  },
  {
   "cell_type": "code",
   "execution_count": 37,
   "id": "37a4ff00-3c86-4ee2-a495-df465d799dbb",
   "metadata": {},
   "outputs": [
    {
     "data": {
      "text/plain": [
       "['Shadow Moon',\n",
       " {'1': '< !-- See Wikipedia:WikiProject Novels or Wikipedia:WikiProject Books -- >',\n",
       "  'name': 'Shadow Moon',\n",
       "  'image': 'Shadow Moon (novel).jpg',\n",
       "  'author': 'Chris Claremont, George Lucas',\n",
       "  'cover_artist': 'Ciruelo Cabral',\n",
       "  'country': 'United States',\n",
       "  'language': 'English',\n",
       "  'series': 'Chronicles of the Shadow War',\n",
       "  'genre': 'Fantasy literature',\n",
       "  'published': '1995 (Bantam Spectra)',\n",
       "  'media_type': 'Print (Hardback  &  Paperback)',\n",
       "  'pages': '464',\n",
       "  'isbn': '0-553-57285-7',\n",
       "  'dewey': '813.54',\n",
       "  'congress': 'PS3562 .U234',\n",
       "  'oclc': '35177828',\n",
       "  'followed_by': 'Shadow Dawn'},\n",
       " ['Wikipedia:WikiProject Novels',\n",
       "  'Wikipedia:WikiProject Books',\n",
       "  'Chris Claremont',\n",
       "  'George Lucas',\n",
       "  'Ciruelo Cabral',\n",
       "  'United States',\n",
       "  'Chronicles of the Shadow War',\n",
       "  'Fantasy literature',\n",
       "  'Bantam Spectra',\n",
       "  'Hardcover',\n",
       "  'Paperback',\n",
       "  'Shadow Dawn',\n",
       "  'Chris Claremont',\n",
       "  'George Lucas',\n",
       "  'Goodreads',\n",
       "  'Willow (1988 film)',\n",
       "  'Chronicles of the Shadow War',\n",
       "  'Shadow Dawn',\n",
       "  'Shadow Star (novel)',\n",
       "  'Willow (1988 film)',\n",
       "  'Willow (1988 film)',\n",
       "  'RPGnet',\n",
       "  \"372 Pages We'll Never Get Back\",\n",
       "  'Conor Lastowka',\n",
       "  'Michael J. Nelson',\n",
       "  'Sean Penn',\n",
       "  'Bob Honey Who Just Do Stuff',\n",
       "  'Category:1995 American novels',\n",
       "  'Category:Books by Chris Claremont',\n",
       "  'Category:American fantasy novels',\n",
       "  'Category:English-language novels',\n",
       "  'Category:Works by George Lucas',\n",
       "  'Category:Collaborative novels',\n",
       "  'Category:Sequel novels',\n",
       "  'Category:Willow (1988 film)',\n",
       "  'Category:Bantam Spectra books'],\n",
       " ['https://www.goodreads.com/book/show/160859.Shadow_Moon',\n",
       "  'https://www.rpg.net/reviews/archive/9/9325.phtml',\n",
       "  'https://www.patreon.com/372pages'],\n",
       " '2024-06-05T14:40:04Z',\n",
       " 5426]"
      ]
     },
     "execution_count": 37,
     "metadata": {},
     "output_type": "execute_result"
    }
   ],
   "source": [
    "books_in[10]"
   ]
  },
  {
   "cell_type": "code",
   "execution_count": 38,
   "id": "9ed4b0ac-06f8-4fb5-9396-08f7d1e80ffb",
   "metadata": {},
   "outputs": [],
   "source": [
    "import gc\n",
    "import json\n",
    "\n",
    "def find_books(data_path, limit = None, save = True):\n",
    "    handler = WikiXmlHandler()\n",
    "\n",
    "    parser = xml.sax.make_parser()\n",
    "    parser.setContentHandler(handler)\n",
    "\n",
    "    for i, line in enumerate(bz2.BZ2File(data_path, 'r')):\n",
    "\n",
    "        try:\n",
    "            parser.feed(line)\n",
    "        except StopIteration:\n",
    "            break\n",
    "            \n",
    "        # Optional limit\n",
    "        if limit is not None and len(handler._books) >= limit:\n",
    "            return handler._books\n",
    "    \n",
    "    if save:\n",
    "        partition_dir = 'C:/Users/Mosses Ogbonna/Documents/data/wiki/partitions/'\n",
    "        p_str = data_path.split('-')[-1].split('.')[-2]\n",
    "        out_dir = partition_dir + f'{p_str}.ndjson'\n",
    "\n",
    "        with open(out_dir, 'w') as fout:\n",
    "            # Write as json\n",
    "            for book in handler._books:\n",
    "                fout.write(json.dumps(book) + '\\n')\n",
    "        \n",
    "        print(f'{len(os.listdir(partition_dir))} files processed.', end = '\\r')\n",
    "\n",
    "    # Memory management\n",
    "    del handler\n",
    "    del parser\n",
    "    gc.collect()\n",
    "    return None"
   ]
  },
  {
   "cell_type": "markdown",
   "id": "2bb12dec-cd22-486f-a6b2-885a1808a0cf",
   "metadata": {},
   "source": [
    "**Now we use the function to search for every book article**"
   ]
  },
  {
   "cell_type": "code",
   "execution_count": null,
   "id": "27955f55-2f7c-4365-a79f-37894c53d372",
   "metadata": {},
   "outputs": [],
   "source": [
    "for i in range(len(data_paths)):\n",
    "    find_books(data_paths[i])"
   ]
  },
  {
   "cell_type": "markdown",
   "id": "8da59131-2ded-46f9-ac67-21ee1582e21c",
   "metadata": {},
   "source": [
    "    This took about 40 hours. But this is a naive approach and also not taking full advantage of our resources. Instead, we can use either multithreading or multiprocessing to parse many files at the same time, greatly speeding up the overall process."
   ]
  },
  {
   "cell_type": "markdown",
   "id": "2cc4b10b-ea3e-4fef-a208-2df3326de9c5",
   "metadata": {},
   "source": [
    "### Join Data Together\n",
    "\n",
    "After creating the separate files, each one containing the books from one partition, we can join them together into a single list by reading them from disk. For this task, we'll use **multithreading** to read in the files in parallel. Again, we'll need a service, this time the function **read_data**, and tasks, all the **saved_files**, each of which contains the books for one partition."
   ]
  },
  {
   "cell_type": "code",
   "execution_count": 39,
   "id": "0274df41-980f-4c0c-a966-f1c64164559f",
   "metadata": {},
   "outputs": [],
   "source": [
    "def read_data(file_path):\n",
    "    \n",
    "    data = []\n",
    "    \n",
    "    # Open the file and load in json\n",
    "    with open(file_path, 'r') as fin:\n",
    "        for l in fin.readlines():\n",
    "            data.append(json.loads(l))\n",
    "            \n",
    "    return data"
   ]
  },
  {
   "cell_type": "code",
   "execution_count": 40,
   "id": "e1ab9489-d462-415d-9aca-92902e908ca1",
   "metadata": {},
   "outputs": [
    {
     "name": "stdout",
     "output_type": "stream",
     "text": [
      "Found 48148 books in 2 seconds.\n"
     ]
    }
   ],
   "source": [
    "from multiprocessing.dummy import Pool as Threadpool\n",
    "from itertools import chain\n",
    "\n",
    "start = timer()\n",
    "\n",
    "# List of files to read in\n",
    "saved_files = ['C:/Users/Mosses Ogbonna/Documents/data/wiki/partitions/' + x for x in os.listdir('C:/Users/Mosses Ogbonna/Documents/data/wiki/partitions/')]   \n",
    "\n",
    "# Create a threadpool for reading in files\n",
    "threadpool = Threadpool(processes = 10)\n",
    "\n",
    "# Read in the files as a list of lists\n",
    "results = threadpool.map(read_data, saved_files)\n",
    "\n",
    "# Flatten the list of lists to a single list\n",
    "book_list = list(chain(*results))\n",
    "\n",
    "end = timer()\n",
    "\n",
    "print(f'Found {len(book_list)} books in {round(end - start)} seconds.')"
   ]
  },
  {
   "cell_type": "markdown",
   "id": "99150ad7-cd10-4664-9f09-61528bad4fde",
   "metadata": {},
   "source": [
    "#### The code below saves all the books as a single file."
   ]
  },
  {
   "cell_type": "code",
   "execution_count": 41,
   "id": "8cb877f0-ba09-4735-9bcd-214c58b6e9d6",
   "metadata": {},
   "outputs": [
    {
     "name": "stdout",
     "output_type": "stream",
     "text": [
      "Books saved.\n"
     ]
    }
   ],
   "source": [
    "if not os.path.exists(os.getcwd() + 'C:/Users/Mosses Ogbonna/Documents/data/found_books_filtered.ndjson'):\n",
    "    with open('C:/Users/Mosses Ogbonna/Documents/data/found_books_filtered.ndjson', 'wt') as fout:\n",
    "        for book in book_list:\n",
    "             fout.write(json.dumps(book) + '\\n')\n",
    "    print('Books saved.')\n",
    "else:\n",
    "    print('Files already saved.')"
   ]
  },
  {
   "cell_type": "markdown",
   "id": "68b491ff-78c3-47f7-99db-d71d3ff82967",
   "metadata": {},
   "source": [
    " We searched through over 100 GB of total files to find 85 MB worth of books."
   ]
  },
  {
   "cell_type": "markdown",
   "id": "de4be911-65e2-453c-97b5-870aab0eb26d",
   "metadata": {},
   "source": [
    "### Conclusions\n",
    "Having information is only useful if we can make sense of it, so we also thoroughly covered how to parse through the data. The end result is code that can be used to find and extract any information from any category of article on Wikipedia. Along the way, we covered a number of critical data science skills:\n",
    "\n",
    "- Parsing HTML using BeautifulSoup\n",
    "- Parsing XML using SAX\n",
    "- Parsing Mediawiki using mwparserfromhell\n",
    "- Benchmarking different ways to solve a problem for efficiency comparisons\n",
    "\n",
    "Wikipedia is a rich source of information and quite an achievement of modern humanity. After completing this project, we know how to access and make use of all this information."
   ]
  },
  {
   "cell_type": "code",
   "execution_count": null,
   "id": "434ab278-5434-4fff-b4a6-243b425b7998",
   "metadata": {},
   "outputs": [],
   "source": []
  }
 ],
 "metadata": {
  "kernelspec": {
   "display_name": "Python 3 (ipykernel)",
   "language": "python",
   "name": "python3"
  },
  "language_info": {
   "codemirror_mode": {
    "name": "ipython",
    "version": 3
   },
   "file_extension": ".py",
   "mimetype": "text/x-python",
   "name": "python",
   "nbconvert_exporter": "python",
   "pygments_lexer": "ipython3",
   "version": "3.12.5"
  }
 },
 "nbformat": 4,
 "nbformat_minor": 5
}
