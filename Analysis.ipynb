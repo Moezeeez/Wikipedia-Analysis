{
 "cells": [
  {
   "cell_type": "markdown",
   "id": "f05e43e9-1adc-4600-b4ba-80e54310be61",
   "metadata": {},
   "source": [
    "## Analysing Wikipedia Book Data\n",
    "\n",
    "After gathering all of the data about books on Wikipedia, it's time to see what we can find from it! "
   ]
  },
  {
   "cell_type": "markdown",
   "id": "49821075-487d-4630-8e3c-74c3e5e5541e",
   "metadata": {},
   "source": [
    "### Read in Data"
   ]
  },
  {
   "cell_type": "code",
   "execution_count": 1,
   "id": "04d9646f-7209-4807-a7c7-5ce21cfc48c3",
   "metadata": {},
   "outputs": [],
   "source": [
    "import pandas as pd\n",
    "import numpy as np\n",
    "\n",
    "import json"
   ]
  },
  {
   "cell_type": "code",
   "execution_count": 2,
   "id": "ea5a3a75-5f86-4b30-bb48-75d8392141ba",
   "metadata": {},
   "outputs": [
    {
     "name": "stdout",
     "output_type": "stream",
     "text": [
      "Found 48148 books.\n"
     ]
    }
   ],
   "source": [
    "data_path = 'C:/Users/Mosses Ogbonna/Documents/data/found_books_filtered.ndjson'\n",
    "\n",
    "books = []\n",
    "\n",
    "with open(data_path, 'r') as fin:\n",
    "    for l in fin.readlines():\n",
    "        books.append(json.loads(l))\n",
    "        \n",
    "print(f'Found {len(books)} books.')"
   ]
  },
  {
   "cell_type": "code",
   "execution_count": 3,
   "id": "abb47a0f-08d0-48e9-95fc-b050f1cb3c63",
   "metadata": {},
   "outputs": [
    {
     "data": {
      "text/plain": [
       "['Strangers from the Sky',\n",
       " {'name': 'Strangers from the Sky',\n",
       "  'image': 'Stock_Photo_Strangers_from_the_Sky_bookcover.jpg',\n",
       "  'caption': 'Cover page of third edition',\n",
       "  'image_size': '200px',\n",
       "  'author': 'Margaret Wander Bonanno',\n",
       "  'audio_read_by': 'George Takei with Leonard Nimoy as voice of Spock',\n",
       "  'cover_artist': 'Boris Vallejo \\n Jerry Vanderstelt (re-release)',\n",
       "  'country': 'United States',\n",
       "  'language': 'English',\n",
       "  'genre': 'Science fiction',\n",
       "  'published': '* July 1987 (first edition) \\n * 1993 (second edition) \\n * August 2006 (third edition)',\n",
       "  'publisher': 'Pocket Books',\n",
       "  'media_type': 'Print (Paperback)',\n",
       "  'pages': '* 402 pp (first edition) \\n * 402 pp (second edition) \\n * 416 pp (third edition)',\n",
       "  'isbn': '978-0-671-64049-1',\n",
       "  'isbn_note': '(1st edition) < br / >   (2nd edition) < br / >   (3rd edition)',\n",
       "  'oclc': '12603784'},\n",
       " ['Margaret Wander Bonanno',\n",
       "  'George Takei',\n",
       "  'Leonard Nimoy',\n",
       "  'Boris Vallejo',\n",
       "  'Jerry Vanderstelt',\n",
       "  'Science fiction',\n",
       "  'Pocket Books',\n",
       "  'Paperback',\n",
       "  'Margaret Wander Bonanno',\n",
       "  'Star Trek: The Original Series',\n",
       "  'Star Trek timeline',\n",
       "  'First contact (science fiction)',\n",
       "  'James T. Kirk',\n",
       "  'Starfleet',\n",
       "  'PTSD',\n",
       "  'Leonard McCoy',\n",
       "  'Spock',\n",
       "  'mind meld',\n",
       "  'Starship Enterprise',\n",
       "  'Gary Mitchell (Star Trek)',\n",
       "  'Where No Man Has Gone Before',\n",
       "  'Star Trek: Enterprise',\n",
       "  'Carbon Creek (Star Trek: Enterprise)',\n",
       "  'George Takei',\n",
       "  'Leonard Nimoy',\n",
       "  'Spock',\n",
       "  'Category:1987 American novels',\n",
       "  'Category:Novels based on Star Trek: The Original Series'],\n",
       " ['http://www.startrek.com/article/ten-for-ward-7-10-favorite-star-trek-audionovels',\n",
       "  'https://web.archive.org/web/20130414020105/http://www.startrek.com/article/ten-for-ward-7-10-favorite-star-trek-audionovels'],\n",
       " '2024-06-09T12:40:16Z',\n",
       " 2359]"
      ]
     },
     "execution_count": 3,
     "metadata": {},
     "output_type": "execute_result"
    }
   ],
   "source": [
    "from IPython.core.interactiveshell import InteractiveShell\n",
    "\n",
    "InteractiveShell.ast_node_interactivity = 'all'\n",
    "import pprint\n",
    "\n",
    "books[2]"
   ]
  },
  {
   "cell_type": "markdown",
   "id": "73147c66-66c3-45b0-a240-b4dcb1f68a89",
   "metadata": {},
   "source": [
    "### Internal Links\n",
    "\n",
    "First we'll explore the distribution of internal wikilinks. These are links within articles that point to other Wikipedia articles. We collected the titles of every one of these links for each book."
   ]
  },
  {
   "cell_type": "code",
   "execution_count": 4,
   "id": "0ec79c73-da2d-4e30-91ff-a4b98e70e972",
   "metadata": {},
   "outputs": [
    {
     "data": {
      "text/plain": [
       "['Margaret Wander Bonanno',\n",
       " 'George Takei',\n",
       " 'Leonard Nimoy',\n",
       " 'Boris Vallejo',\n",
       " 'Jerry Vanderstelt',\n",
       " 'Science fiction',\n",
       " 'Pocket Books',\n",
       " 'Paperback',\n",
       " 'Margaret Wander Bonanno',\n",
       " 'Star Trek: The Original Series',\n",
       " 'Star Trek timeline',\n",
       " 'First contact (science fiction)',\n",
       " 'James T. Kirk',\n",
       " 'Starfleet',\n",
       " 'PTSD',\n",
       " 'Leonard McCoy',\n",
       " 'Spock',\n",
       " 'mind meld',\n",
       " 'Starship Enterprise',\n",
       " 'Gary Mitchell (Star Trek)',\n",
       " 'Where No Man Has Gone Before',\n",
       " 'Star Trek: Enterprise',\n",
       " 'Carbon Creek (Star Trek: Enterprise)',\n",
       " 'George Takei',\n",
       " 'Leonard Nimoy',\n",
       " 'Spock',\n",
       " 'Category:1987 American novels',\n",
       " 'Category:Novels based on Star Trek: The Original Series']"
      ]
     },
     "execution_count": 4,
     "metadata": {},
     "output_type": "execute_result"
    }
   ],
   "source": [
    "wikilinks = [book[2] for book in books]\n",
    "wikilinks[2]"
   ]
  },
  {
   "cell_type": "code",
   "execution_count": 5,
   "id": "e39e562c-8eea-45c4-a804-a69e8e69e3f6",
   "metadata": {},
   "outputs": [],
   "source": [
    "wikilink_count = [len(x) for x in wikilinks]"
   ]
  },
  {
   "cell_type": "code",
   "execution_count": 6,
   "id": "2f1368a3-00c0-46ea-9d44-571c8c92dd8e",
   "metadata": {},
   "outputs": [
    {
     "data": {
      "text/html": [
       "<div>\n",
       "<style scoped>\n",
       "    .dataframe tbody tr th:only-of-type {\n",
       "        vertical-align: middle;\n",
       "    }\n",
       "\n",
       "    .dataframe tbody tr th {\n",
       "        vertical-align: top;\n",
       "    }\n",
       "\n",
       "    .dataframe thead th {\n",
       "        text-align: right;\n",
       "    }\n",
       "</style>\n",
       "<table border=\"1\" class=\"dataframe\">\n",
       "  <thead>\n",
       "    <tr style=\"text-align: right;\">\n",
       "      <th></th>\n",
       "      <th>title</th>\n",
       "      <th>wikilink_count</th>\n",
       "    </tr>\n",
       "  </thead>\n",
       "  <tbody>\n",
       "    <tr>\n",
       "      <th>22352</th>\n",
       "      <td>Asimov's Biographical Encyclopedia of Science ...</td>\n",
       "      <td>1767</td>\n",
       "    </tr>\n",
       "    <tr>\n",
       "      <th>21491</th>\n",
       "      <td>Timeline of science fiction</td>\n",
       "      <td>1857</td>\n",
       "    </tr>\n",
       "    <tr>\n",
       "      <th>32129</th>\n",
       "      <td>Wikipedia:Help desk/Archive 63</td>\n",
       "      <td>1952</td>\n",
       "    </tr>\n",
       "    <tr>\n",
       "      <th>28393</th>\n",
       "      <td>Wikipedia:Administrators' noticeboard/Archive281</td>\n",
       "      <td>3212</td>\n",
       "    </tr>\n",
       "    <tr>\n",
       "      <th>19887</th>\n",
       "      <td>Wikipedia:Articles for creation/Redirects and ...</td>\n",
       "      <td>3926</td>\n",
       "    </tr>\n",
       "  </tbody>\n",
       "</table>\n",
       "</div>"
      ],
      "text/plain": [
       "                                                   title  wikilink_count\n",
       "22352  Asimov's Biographical Encyclopedia of Science ...            1767\n",
       "21491                        Timeline of science fiction            1857\n",
       "32129                     Wikipedia:Help desk/Archive 63            1952\n",
       "28393   Wikipedia:Administrators' noticeboard/Archive281            3212\n",
       "19887  Wikipedia:Articles for creation/Redirects and ...            3926"
      ]
     },
     "execution_count": 6,
     "metadata": {},
     "output_type": "execute_result"
    }
   ],
   "source": [
    "data = pd.DataFrame({'title': [book[0] for book in books], 'wikilink_count': wikilink_count})\n",
    "data.sort_values('wikilink_count').tail()"
   ]
  },
  {
   "cell_type": "markdown",
   "id": "d245e935-f5c3-468b-b6b6-5f4bd232cb14",
   "metadata": {},
   "source": [
    "This looks like we have some anomalies! We have inadvertently captured articles that clearly are not books, but do mention the **Infobox book** template. Let's see how many of these there are."
   ]
  },
  {
   "cell_type": "code",
   "execution_count": 7,
   "id": "2a8b370c-4d39-4afa-97a9-2d74fb302397",
   "metadata": {},
   "outputs": [
    {
     "data": {
      "text/plain": [
       "30"
      ]
     },
     "execution_count": 7,
     "metadata": {},
     "output_type": "execute_result"
    }
   ],
   "source": [
    "potential_anomlies = [book[0] for book in books if 'Wikipedia' in book[0]]\n",
    "len(potential_anomlies)"
   ]
  },
  {
   "cell_type": "markdown",
   "id": "72399345-8dc2-4def-8280-5fe8adeb23fa",
   "metadata": {},
   "source": [
    "We'll remove all of these articles."
   ]
  },
  {
   "cell_type": "code",
   "execution_count": 8,
   "id": "e0b5e39b-3b8b-4644-af2a-777adc6a9dc9",
   "metadata": {},
   "outputs": [
    {
     "data": {
      "text/plain": [
       "48118"
      ]
     },
     "execution_count": 8,
     "metadata": {},
     "output_type": "execute_result"
    }
   ],
   "source": [
    "books = [book for book in books if 'Wikipedia' not in book[0]]\n",
    "len(books)"
   ]
  },
  {
   "cell_type": "code",
   "execution_count": 9,
   "id": "09f5e085-4759-46ba-814a-c60b3bb310b2",
   "metadata": {},
   "outputs": [
    {
     "data": {
      "text/html": [
       "<div>\n",
       "<style scoped>\n",
       "    .dataframe tbody tr th:only-of-type {\n",
       "        vertical-align: middle;\n",
       "    }\n",
       "\n",
       "    .dataframe tbody tr th {\n",
       "        vertical-align: top;\n",
       "    }\n",
       "\n",
       "    .dataframe thead th {\n",
       "        text-align: right;\n",
       "    }\n",
       "</style>\n",
       "<table border=\"1\" class=\"dataframe\">\n",
       "  <thead>\n",
       "    <tr style=\"text-align: right;\">\n",
       "      <th></th>\n",
       "      <th>title</th>\n",
       "      <th>wikilink_count</th>\n",
       "    </tr>\n",
       "  </thead>\n",
       "  <tbody>\n",
       "    <tr>\n",
       "      <th>16873</th>\n",
       "      <td>Harvard Classics</td>\n",
       "      <td>858</td>\n",
       "    </tr>\n",
       "    <tr>\n",
       "      <th>47078</th>\n",
       "      <td>Biographical Dictionary of the Extreme Right Since 1890</td>\n",
       "      <td>964</td>\n",
       "    </tr>\n",
       "    <tr>\n",
       "      <th>17216</th>\n",
       "      <td>1001 Children's Books You Must Read Before You Grow Up</td>\n",
       "      <td>1075</td>\n",
       "    </tr>\n",
       "    <tr>\n",
       "      <th>22331</th>\n",
       "      <td>Asimov's Biographical Encyclopedia of Science and Technology</td>\n",
       "      <td>1767</td>\n",
       "    </tr>\n",
       "    <tr>\n",
       "      <th>21470</th>\n",
       "      <td>Timeline of science fiction</td>\n",
       "      <td>1857</td>\n",
       "    </tr>\n",
       "  </tbody>\n",
       "</table>\n",
       "</div>"
      ],
      "text/plain": [
       "                                                              title  \\\n",
       "16873                                              Harvard Classics   \n",
       "47078       Biographical Dictionary of the Extreme Right Since 1890   \n",
       "17216        1001 Children's Books You Must Read Before You Grow Up   \n",
       "22331  Asimov's Biographical Encyclopedia of Science and Technology   \n",
       "21470                                   Timeline of science fiction   \n",
       "\n",
       "       wikilink_count  \n",
       "16873             858  \n",
       "47078             964  \n",
       "17216            1075  \n",
       "22331            1767  \n",
       "21470            1857  "
      ]
     },
     "execution_count": 9,
     "metadata": {},
     "output_type": "execute_result"
    }
   ],
   "source": [
    "wikilinks = [book[2] for book in books]\n",
    "wikilink_count = [len(x) for x in wikilinks]\n",
    "\n",
    "pd.options.display.max_colwidth = 100\n",
    "\n",
    "data = pd.DataFrame({'title': [book[0] for book in books], 'wikilink_count': wikilink_count})\n",
    "data.sort_values('wikilink_count').tail()"
   ]
  },
  {
   "cell_type": "markdown",
   "id": "eefb2f8a-a778-40d4-9783-304180f1aa51",
   "metadata": {},
   "source": [
    "It still seems like there are a few anomalies. However, to remove these further, we'd have to go through one at a time and inspect the pages. For now, we can simply leave these in and hope they don't have too great of an impact on the analysis."
   ]
  },
  {
   "cell_type": "code",
   "execution_count": 10,
   "id": "31019d0d-22f9-4368-ab5d-00b8338898e4",
   "metadata": {},
   "outputs": [
    {
     "name": "stdout",
     "output_type": "stream",
     "text": [
      "There are 414108 unique wikilinks.\n"
     ]
    }
   ],
   "source": [
    "from itertools import chain\n",
    "\n",
    "print(f\"There are {len(set(chain(*wikilinks)))} unique wikilinks.\")"
   ]
  },
  {
   "cell_type": "markdown",
   "id": "227f4abf-f68b-43cb-8987-fd355d2202a4",
   "metadata": {},
   "source": [
    "We can also count the occurence of each Wikilink. This makes use of the **Counter** class in the collections library."
   ]
  },
  {
   "cell_type": "code",
   "execution_count": 11,
   "id": "397938b7-d065-4748-9d18-30f050cd00da",
   "metadata": {},
   "outputs": [
    {
     "data": {
      "text/plain": [
       "44"
      ]
     },
     "execution_count": 11,
     "metadata": {},
     "output_type": "execute_result"
    }
   ],
   "source": [
    "from collections import Counter\n",
    "\n",
    "wikilink_counts = Counter(chain(*wikilinks))\n",
    "wikilink_counts['War and Peace']"
   ]
  },
  {
   "cell_type": "code",
   "execution_count": 12,
   "id": "6986e183-0b82-403b-89a7-74eb9fef082f",
   "metadata": {},
   "outputs": [
    {
     "data": {
      "text/plain": [
       "[('The New York Times', 7884),\n",
       " ('Hardcover', 6786),\n",
       " ('Wikipedia:WikiProject Books', 6230),\n",
       " ('Paperback', 6204),\n",
       " ('Wikipedia:WikiProject Novels', 6195),\n",
       " ('Publishers Weekly', 5753),\n",
       " ('Kirkus Reviews', 5110),\n",
       " ('The Guardian', 4783),\n",
       " ('English language', 3898),\n",
       " ('Science fiction', 3326)]"
      ]
     },
     "execution_count": 12,
     "metadata": {},
     "output_type": "execute_result"
    }
   ],
   "source": [
    "wikilink_counts = sorted(wikilink_counts.items(), key = lambda x: x[1], reverse = True)\n",
    "wikilink_counts[:10]"
   ]
  },
  {
   "cell_type": "markdown",
   "id": "6249d92d-725a-4a80-ba4d-09bf6c6f56a6",
   "metadata": {},
   "source": [
    "    The top wikilinks make a lot of sense. We can search through the wikilink counts for only those books to see what are the most linked to books by other books."
   ]
  },
  {
   "cell_type": "markdown",
   "id": "b8a77270-4b22-47e0-8e13-39287e059a99",
   "metadata": {},
   "source": [
    "First we'll make a dictionary for mapping books to an index."
   ]
  },
  {
   "cell_type": "code",
   "execution_count": 13,
   "id": "07619652-ed03-4062-9fad-3ffecd0964b9",
   "metadata": {},
   "outputs": [
    {
     "data": {
      "text/plain": [
       "48118"
      ]
     },
     "execution_count": 13,
     "metadata": {},
     "output_type": "execute_result"
    }
   ],
   "source": [
    "book_to_idx = {book[0]: idx for idx, book in enumerate(books)}\n",
    "len(book_to_idx)"
   ]
  },
  {
   "cell_type": "code",
   "execution_count": 14,
   "id": "a217178d-7d9c-405d-9293-2630e1939715",
   "metadata": {},
   "outputs": [
    {
     "data": {
      "text/plain": [
       "[('The Lord of the Rings', 199),\n",
       " ('The Encyclopedia of Science Fiction', 199),\n",
       " ('The Discontinuity Guide', 182),\n",
       " ('The Federalist Papers', 150),\n",
       " ('Discworld', 136),\n",
       " ('Encyclopædia Britannica', 106),\n",
       " ('Nineteen Eighty-Four', 92),\n",
       " ('Dracula', 87),\n",
       " ('The Hobbit', 82),\n",
       " (\"Alice's Adventures in Wonderland\", 76)]"
      ]
     },
     "execution_count": 14,
     "metadata": {},
     "output_type": "execute_result"
    }
   ],
   "source": [
    "wikilink_books = [x for x in wikilink_counts if x[0] in book_to_idx.keys()]\n",
    "wikilink_books[:10]"
   ]
  },
  {
   "cell_type": "code",
   "execution_count": 15,
   "id": "a28e8e59-d045-4271-a23f-3dcc9aad9006",
   "metadata": {},
   "outputs": [],
   "source": [
    "import matplotlib.pyplot as plt\n",
    "%matplotlib inline\n",
    "import seaborn as sns"
   ]
  },
  {
   "cell_type": "markdown",
   "id": "d6bcd431-de44-448d-8457-fe12487b6676",
   "metadata": {},
   "source": [
    "## External Links"
   ]
  },
  {
   "cell_type": "code",
   "execution_count": 16,
   "id": "3f987d0b-cfe8-4284-ba82-e166abe855d1",
   "metadata": {},
   "outputs": [
    {
     "name": "stdout",
     "output_type": "stream",
     "text": [
      "There are 301662 unique external links.\n"
     ]
    }
   ],
   "source": [
    "ex_links = list(chain(*[book[3] for book in books]))\n",
    "print(f'There are {len(set(ex_links))} unique external links.')"
   ]
  },
  {
   "cell_type": "code",
   "execution_count": 17,
   "id": "44d976c6-08eb-4c85-9c0f-89501396214e",
   "metadata": {},
   "outputs": [
    {
     "data": {
      "text/plain": [
       "[('https://www.ebsco.com', 664),\n",
       " ('http://search.ebscohost.com/login.aspx?direct=true', 209),\n",
       " ('http://primocat.bl.uk/F?func=direct', 154),\n",
       " ('http://guide.doctorwhonews.net/info.php?detail=ratings', 138),\n",
       " ('https://search.ebscohost.com/login.aspx?direct=true', 116),\n",
       " ('http://darwin-online.org.uk/content/frameset?viewtype=text', 97),\n",
       " ('http://www.ala.org/alsc/awardsgrants/bookmedia/caldecottmedal/caldecotthonors/caldecottmedal',\n",
       "  85),\n",
       " ('http://www.litencyc.com/php/sworks.php?rec=true', 78),\n",
       " ('http://docs.newsbank.com/openurl?ctx_ver=z39.88-2004', 74),\n",
       " ('https://web.archive.org/web/20190329183744/http://www.ala.org/alsc/awardsgrants/bookmedia/caldecottmedal/caldecotthonors/caldecottmedal',\n",
       "  70)]"
      ]
     },
     "execution_count": 17,
     "metadata": {},
     "output_type": "execute_result"
    }
   ],
   "source": [
    "ex_link_counts = sorted(Counter(ex_links).items(), key = lambda x: x[1], reverse = True)\n",
    "ex_link_counts[:10]"
   ]
  },
  {
   "cell_type": "markdown",
   "id": "cae44eb1-abd8-45ec-83ab-f5b6b6c290a6",
   "metadata": {},
   "source": [
    "Let's try to get the root of each website in the external links using some string operations."
   ]
  },
  {
   "cell_type": "code",
   "execution_count": 19,
   "id": "7bab1e10-4d4a-4216-8203-5dcfc00612d3",
   "metadata": {},
   "outputs": [
    {
     "data": {
      "text/plain": [
       "'www.litencyc.com'"
      ]
     },
     "execution_count": 19,
     "metadata": {},
     "output_type": "execute_result"
    }
   ],
   "source": [
    "'http://www.litencyc.com/php/sworks.php?rec=true'.split('//')[-1].split('/')[0]"
   ]
  },
  {
   "cell_type": "code",
   "execution_count": 20,
   "id": "f7bcba28-deb5-4c48-96a5-e0a84a386e6f",
   "metadata": {},
   "outputs": [
    {
     "data": {
      "text/plain": [
       "'www.ebsco.com'"
      ]
     },
     "execution_count": 20,
     "metadata": {},
     "output_type": "execute_result"
    }
   ],
   "source": [
    "'https://www.ebsco.com'.split('//')[-1].split('/')[0]"
   ]
  },
  {
   "cell_type": "code",
   "execution_count": 21,
   "id": "62c4ce43-ea11-43c1-97d4-da3a8f380cb1",
   "metadata": {},
   "outputs": [
    {
     "data": {
      "text/plain": [
       "[('books.google.com', 16191),\n",
       " ('archive.org', 15959),\n",
       " ('www.nytimes.com', 11587),\n",
       " ('www.theguardian.com', 7617),\n",
       " ('www.publishersweekly.com', 5567),\n",
       " ('www.kirkusreviews.com', 5248),\n",
       " ('www.jstor.org', 2759),\n",
       " ('www.washingtonpost.com', 2740),\n",
       " ('www.goodreads.com', 2278),\n",
       " ('www.independent.co.uk', 2262)]"
      ]
     },
     "execution_count": 21,
     "metadata": {},
     "output_type": "execute_result"
    }
   ],
   "source": [
    "ex_root = [link.split('//')[-1].split('/')[0] for link in ex_links]\n",
    "ex_link_counts = sorted(Counter(ex_root).items(), key = lambda x: x[1], reverse = True)\n",
    "ex_link_counts[:10]"
   ]
  },
  {
   "cell_type": "code",
   "execution_count": 22,
   "id": "dce2beae-8280-4494-b606-c83ba934b679",
   "metadata": {},
   "outputs": [],
   "source": [
    "def plot_counts(tup, xlabel, n = 10):\n",
    "    df = pd.DataFrame({'count': [x[1] for x in tup]}, \n",
    "                      index = [x[0] for x in tup]).sort_values('count', ascending = False)\n",
    "    \n",
    "    plt.style.use('fivethirtyeight')\n",
    "    plt.figure(figsize = (8, 6))\n",
    "    df['count'].head(n).plot.bar(color = 'r', edgecolor = 'k', linewidth = 2)\n",
    "    plt.ylabel('count'); plt.title(f'{xlabel.capitalize()} Bar Plot');"
   ]
  },
  {
   "cell_type": "code",
   "execution_count": 23,
   "id": "ff9a8dc2-9565-4de4-937f-a0a1254ea969",
   "metadata": {},
   "outputs": [
    {
     "data": {
      "image/png": "[encoded data removed]",
      "text/plain": [
       "<Figure size 800x600 with 1 Axes>"
      ]
     },
     "metadata": {},
     "output_type": "display_data"
    }
   ],
   "source": [
    "plot_counts(ex_link_counts, 'External Link')"
   ]
  },
  {
   "cell_type": "code",
   "execution_count": 24,
   "id": "78d00c8e-169b-411e-90fd-76e23acd638a",
   "metadata": {},
   "outputs": [
    {
     "data": {
      "image/png": "[encoded data removed]",
      "text/plain": [
       "<Figure size 800x600 with 1 Axes>"
      ]
     },
     "metadata": {},
     "output_type": "display_data"
    }
   ],
   "source": [
    "plot_counts(wikilink_counts, 'wikilink')"
   ]
  },
  {
   "cell_type": "markdown",
   "id": "257b3fb5-23a8-475e-b740-c3de558944d8",
   "metadata": {},
   "source": [
    "## Exploring Categories"
   ]
  },
  {
   "cell_type": "code",
   "execution_count": 25,
   "id": "ffb0857c-3a2f-4659-adaf-6f97365d1350",
   "metadata": {},
   "outputs": [
    {
     "name": "stdout",
     "output_type": "stream",
     "text": [
      "There are 36800 unique categories.\n"
     ]
    }
   ],
   "source": [
    "categories = []\n",
    "\n",
    "for book in books:\n",
    "    for link in book[2]:\n",
    "        if 'Category:' in link:\n",
    "            categories.append(link[9:])\n",
    "    \n",
    "print(f\"There are {len(set(categories))} unique categories.\")"
   ]
  },
  {
   "cell_type": "code",
   "execution_count": 26,
   "id": "bf26833d-4f13-463d-92c3-e045b97e2415",
   "metadata": {},
   "outputs": [
    {
     "data": {
      "text/plain": [
       "[('English-language books', 2083),\n",
       " ('American science fiction novels', 1381),\n",
       " ('American novels adapted into films', 1373),\n",
       " ('American fantasy novels', 1190),\n",
       " ('British novels adapted into films', 1163),\n",
       " ('American non-fiction books', 1129),\n",
       " ('American young adult novels', 1075),\n",
       " ('HarperCollins books', 1054),\n",
       " ('Novels set in London', 939),\n",
       " ('Doubleday (publisher) books', 785)]"
      ]
     },
     "execution_count": 26,
     "metadata": {},
     "output_type": "execute_result"
    }
   ],
   "source": [
    "from collections import Counter\n",
    "\n",
    "cate_counts = dict(Counter(categories))\n",
    "cate_count_list = sorted(cate_counts.items(), key = lambda x: x[1], reverse = True)\n",
    "cate_count_list[:10]"
   ]
  },
  {
   "cell_type": "code",
   "execution_count": 27,
   "id": "990192e9-eb39-45d9-b97b-b63b5072f864",
   "metadata": {},
   "outputs": [
    {
     "data": {
      "text/plain": [
       "[('Systema Naturae', 1),\n",
       " ('Book series introduced in 1735', 1),\n",
       " ('1735 in science', 1),\n",
       " ('Biological systems', 1),\n",
       " ('Books by P. F. Strawson', 1),\n",
       " ('1909 Canadian novels', 1),\n",
       " ('1915 Canadian novels', 1),\n",
       " ('1917 Canadian novels', 1),\n",
       " ('Battle of Ia Drang', 1),\n",
       " ('Notting Hill', 1)]"
      ]
     },
     "execution_count": 27,
     "metadata": {},
     "output_type": "execute_result"
    }
   ],
   "source": [
    "cate_count_list[-10:]"
   ]
  },
  {
   "cell_type": "code",
   "execution_count": 28,
   "id": "38e2fe68-3359-4abd-8837-d0a94504d99f",
   "metadata": {},
   "outputs": [
    {
     "data": {
      "text/plain": [
       "(array([3.6668e+04, 9.7000e+01, 2.2000e+01, 4.0000e+00, 1.0000e+00,\n",
       "        5.0000e+00, 2.0000e+00, 0.0000e+00, 0.0000e+00, 1.0000e+00]),\n",
       " array([1.0000e+00, 2.0920e+02, 4.1740e+02, 6.2560e+02, 8.3380e+02,\n",
       "        1.0420e+03, 1.2502e+03, 1.4584e+03, 1.6666e+03, 1.8748e+03,\n",
       "        2.0830e+03]),\n",
       " <BarContainer object of 10 artists>)"
      ]
     },
     "execution_count": 28,
     "metadata": {},
     "output_type": "execute_result"
    },
    {
     "data": {
      "image/png": "[encoded data removed]",
      "text/plain": [
       "<Figure size 640x480 with 1 Axes>"
      ]
     },
     "metadata": {},
     "output_type": "display_data"
    }
   ],
   "source": [
    "import matplotlib.pyplot as plt\n",
    "%matplotlib inline\n",
    "\n",
    "plt.hist([x[1] for x in cate_count_list], color = 'red', edgecolor = 'k')"
   ]
  },
  {
   "cell_type": "code",
   "execution_count": 29,
   "id": "799058fe-cd1f-4218-a0f4-7eb122a52a5f",
   "metadata": {},
   "outputs": [],
   "source": [
    "def ecdf(x):\n",
    "    x = np.sort(x)\n",
    "    n = len(x)\n",
    "    y = np.arange(1, n + 1, 1) / n\n",
    "    return x, y"
   ]
  },
  {
   "cell_type": "code",
   "execution_count": 30,
   "id": "b73dfb65-4238-4743-b1ba-2b136b6de725",
   "metadata": {},
   "outputs": [
    {
     "data": {
      "text/plain": [
       "[<matplotlib.lines.Line2D at 0x1d01157fe60>]"
      ]
     },
     "execution_count": 30,
     "metadata": {},
     "output_type": "execute_result"
    },
    {
     "data": {
      "image/png": "[encoded data removed]",
      "text/plain": [
       "<Figure size 640x480 with 1 Axes>"
      ]
     },
     "metadata": {},
     "output_type": "display_data"
    }
   ],
   "source": [
    "xs, ys = ecdf([x[1] for x in cate_count_list])\n",
    "plt.plot(xs, ys, marker = '.')"
   ]
  },
  {
   "cell_type": "markdown",
   "id": "745b2eb6-ee95-41e1-8657-e0ca7fb86d2c",
   "metadata": {},
   "source": [
    "### Exploring Book Attributes"
   ]
  },
  {
   "cell_type": "code",
   "execution_count": 31,
   "id": "5d342ac0-acc2-4e26-bdd5-2383cec5ab4c",
   "metadata": {},
   "outputs": [
    {
     "name": "stdout",
     "output_type": "stream",
     "text": [
      "There are a total of 143 attributes.\n"
     ]
    }
   ],
   "source": [
    "attributes = {}\n",
    "\n",
    "for book in books:\n",
    "    for key, value in book[1].items():\n",
    "        if key in attributes:\n",
    "            attributes[key].append(value)\n",
    "        else:\n",
    "            attributes[key] = [value]\n",
    "\n",
    "print(f'There are a total of {len(attributes)} attributes.')"
   ]
  },
  {
   "cell_type": "code",
   "execution_count": 32,
   "id": "2836ab7a-59cf-4789-8fc7-19dbf23ac726",
   "metadata": {},
   "outputs": [
    {
     "data": {
      "text/plain": [
       "dict_keys(['1', 'name', 'image', 'caption', 'author', 'illustrator', 'language', 'genre', 'publisher', 'release_date', 'media_type', 'isbn', 'isbn_note', 'oclc', 'country', 'pages', 'image_size', 'audio_read_by', 'cover_artist', 'published', 'authors', 'series', 'dewey', 'congress', 'title_orig', 'translator', 'pub_date', 'italic title', 'exclude_cover', 'orig_lang_code', 'english_pub_date', 'subject', 'preceded_by', 'followed_by', 'image_caption', 'wikisource', 'border', 'set_in', 'editor', 'external_url', 'english_release_date', 'awards', 'publisher2', 'website', 'release_number', 'alt', 'location', 'external_host', 'ISBN', 'translators', 'award', 'subjects', 'editors', 'notes', 'genres', 'Dimensions', 'native_wikisource', 'nocat_wdimage', 'first', 'last', 'preceded_by_quotation_marks', 'title_working', 'asin', 'followed_by_quotation_marks', 'native_external_host', 'ISBN_note', 'native_external_url', 'printer', 'infoboxwidth', 'illustrators', 'size', 'URL', 'width', 'weight', 'url', 'title', 'type', 'accessdate', 'lccn', 'german_pub_date', 'id', 'working_title', '< !-- image', 'length', 'access-date', 'home_aut', 'description', 'note', 'cover_model', 'illustrations', '< !-- name', 'dedicated_to', 'ASIN', 'age range', 'images', 'italic', 'structure', 'price', 'portrait_artist', 'ol', 'Spanish_pub_date', 'lcccn', '2', 'cover_design', 'pub_place', 'work', 'Contributing illustrators', 'Product Dimensions', 'Age Range', 'The Natural Daughter with Portraits of the Leadenhead Family', 'Securing Sex: Morality and Repression in the Making of Cold War Brazil', 'publication_type', 'archive-date', 'archive-url', 'url-status', 'issn', 'eissn', 'city', 'English_pub_date', 'homepage', 'introduction_by', '3', 'themes', 'ISSN', 'birth_date', 'birth_place', 'death_place', 'nombre', 'imagen', 'texto_imagen', 'autor', 'pais', 'lengua original', 'genero', 'editorial', 'fecha_publicación', 'precedido_por', 'seguido_por', 'صورة', 'البلد', 'اللغة', 'ردمك', 'books'])"
      ]
     },
     "execution_count": 32,
     "metadata": {},
     "output_type": "execute_result"
    }
   ],
   "source": [
    "attributes.keys()"
   ]
  },
  {
   "cell_type": "code",
   "execution_count": 33,
   "id": "923a8625-e640-4174-aa51-5b79a643ec83",
   "metadata": {},
   "outputs": [
    {
     "data": {
      "text/plain": [
       "[('name', 46081),\n",
       " ('author', 45490),\n",
       " ('image', 44744),\n",
       " ('language', 41819),\n",
       " ('publisher', 40574),\n",
       " ('country', 38437),\n",
       " ('genre', 32127),\n",
       " ('pages', 32011),\n",
       " ('isbn', 30985),\n",
       " ('media_type', 30644),\n",
       " ('caption', 30207),\n",
       " ('release_date', 22587),\n",
       " ('pub_date', 17108),\n",
       " ('oclc', 15158),\n",
       " ('1', 14705),\n",
       " ('followed_by', 14045),\n",
       " ('preceded_by', 12810),\n",
       " ('series', 9698),\n",
       " ('subject', 9109),\n",
       " ('cover_artist', 8847),\n",
       " ('congress', 7652),\n",
       " ('published', 6324),\n",
       " ('dewey', 6271),\n",
       " ('title_orig', 5134),\n",
       " ('italic title', 4507),\n",
       " ('isbn_note', 3973),\n",
       " ('illustrator', 3846),\n",
       " ('image_size', 2921),\n",
       " ('translator', 2663),\n",
       " ('english_pub_date', 1950)]"
      ]
     },
     "execution_count": 33,
     "metadata": {},
     "output_type": "execute_result"
    }
   ],
   "source": [
    "num_attr = {key: len(values) for key, values in attributes.items()}\n",
    "num_attr = sorted(num_attr.items(), key = lambda x: x[1], reverse = True)\n",
    "num_attr[:30]"
   ]
  },
  {
   "cell_type": "markdown",
   "id": "6bd11034-ce6b-49cb-95be-43ef2149e0cf",
   "metadata": {},
   "source": [
    "Let's make a dataframe that has the columns as the attributes and each row is a book. We'll keep only the 100 most common attributes."
   ]
  },
  {
   "cell_type": "code",
   "execution_count": 34,
   "id": "a1e239e1-42a7-490e-99a3-4f8e5c60a5e7",
   "metadata": {},
   "outputs": [
    {
     "data": {
      "text/html": [
       "<div>\n",
       "<style scoped>\n",
       "    .dataframe tbody tr th:only-of-type {\n",
       "        vertical-align: middle;\n",
       "    }\n",
       "\n",
       "    .dataframe tbody tr th {\n",
       "        vertical-align: top;\n",
       "    }\n",
       "\n",
       "    .dataframe thead th {\n",
       "        text-align: right;\n",
       "    }\n",
       "</style>\n",
       "<table border=\"1\" class=\"dataframe\">\n",
       "  <thead>\n",
       "    <tr style=\"text-align: right;\">\n",
       "      <th></th>\n",
       "      <th>title</th>\n",
       "      <th>name</th>\n",
       "      <th>author</th>\n",
       "      <th>image</th>\n",
       "      <th>language</th>\n",
       "      <th>publisher</th>\n",
       "      <th>country</th>\n",
       "      <th>genre</th>\n",
       "      <th>pages</th>\n",
       "      <th>isbn</th>\n",
       "      <th>...</th>\n",
       "      <th>congress</th>\n",
       "      <th>published</th>\n",
       "      <th>dewey</th>\n",
       "      <th>title_orig</th>\n",
       "      <th>italic title</th>\n",
       "      <th>isbn_note</th>\n",
       "      <th>illustrator</th>\n",
       "      <th>image_size</th>\n",
       "      <th>translator</th>\n",
       "      <th>english_pub_date</th>\n",
       "    </tr>\n",
       "  </thead>\n",
       "  <tbody>\n",
       "    <tr>\n",
       "      <th>0</th>\n",
       "      <td>City of Light, City of Dark</td>\n",
       "      <td>NaN</td>\n",
       "      <td>NaN</td>\n",
       "      <td>NaN</td>\n",
       "      <td>NaN</td>\n",
       "      <td>NaN</td>\n",
       "      <td>NaN</td>\n",
       "      <td>NaN</td>\n",
       "      <td>NaN</td>\n",
       "      <td>NaN</td>\n",
       "      <td>...</td>\n",
       "      <td>NaN</td>\n",
       "      <td>NaN</td>\n",
       "      <td>NaN</td>\n",
       "      <td>NaN</td>\n",
       "      <td>NaN</td>\n",
       "      <td>NaN</td>\n",
       "      <td>NaN</td>\n",
       "      <td>NaN</td>\n",
       "      <td>NaN</td>\n",
       "      <td>NaN</td>\n",
       "    </tr>\n",
       "    <tr>\n",
       "      <th>1</th>\n",
       "      <td>The Koreans (book)</td>\n",
       "      <td>NaN</td>\n",
       "      <td>NaN</td>\n",
       "      <td>NaN</td>\n",
       "      <td>NaN</td>\n",
       "      <td>NaN</td>\n",
       "      <td>NaN</td>\n",
       "      <td>NaN</td>\n",
       "      <td>NaN</td>\n",
       "      <td>NaN</td>\n",
       "      <td>...</td>\n",
       "      <td>NaN</td>\n",
       "      <td>NaN</td>\n",
       "      <td>NaN</td>\n",
       "      <td>NaN</td>\n",
       "      <td>NaN</td>\n",
       "      <td>NaN</td>\n",
       "      <td>NaN</td>\n",
       "      <td>NaN</td>\n",
       "      <td>NaN</td>\n",
       "      <td>NaN</td>\n",
       "    </tr>\n",
       "    <tr>\n",
       "      <th>2</th>\n",
       "      <td>Strangers from the Sky</td>\n",
       "      <td>NaN</td>\n",
       "      <td>NaN</td>\n",
       "      <td>NaN</td>\n",
       "      <td>NaN</td>\n",
       "      <td>NaN</td>\n",
       "      <td>NaN</td>\n",
       "      <td>NaN</td>\n",
       "      <td>NaN</td>\n",
       "      <td>NaN</td>\n",
       "      <td>...</td>\n",
       "      <td>NaN</td>\n",
       "      <td>NaN</td>\n",
       "      <td>NaN</td>\n",
       "      <td>NaN</td>\n",
       "      <td>NaN</td>\n",
       "      <td>NaN</td>\n",
       "      <td>NaN</td>\n",
       "      <td>NaN</td>\n",
       "      <td>NaN</td>\n",
       "      <td>NaN</td>\n",
       "    </tr>\n",
       "    <tr>\n",
       "      <th>3</th>\n",
       "      <td>Prime Directive (novel)</td>\n",
       "      <td>NaN</td>\n",
       "      <td>NaN</td>\n",
       "      <td>NaN</td>\n",
       "      <td>NaN</td>\n",
       "      <td>NaN</td>\n",
       "      <td>NaN</td>\n",
       "      <td>NaN</td>\n",
       "      <td>NaN</td>\n",
       "      <td>NaN</td>\n",
       "      <td>...</td>\n",
       "      <td>NaN</td>\n",
       "      <td>NaN</td>\n",
       "      <td>NaN</td>\n",
       "      <td>NaN</td>\n",
       "      <td>NaN</td>\n",
       "      <td>NaN</td>\n",
       "      <td>NaN</td>\n",
       "      <td>NaN</td>\n",
       "      <td>NaN</td>\n",
       "      <td>NaN</td>\n",
       "    </tr>\n",
       "    <tr>\n",
       "      <th>4</th>\n",
       "      <td>Gorbunov and Gorchakov</td>\n",
       "      <td>NaN</td>\n",
       "      <td>NaN</td>\n",
       "      <td>NaN</td>\n",
       "      <td>NaN</td>\n",
       "      <td>NaN</td>\n",
       "      <td>NaN</td>\n",
       "      <td>NaN</td>\n",
       "      <td>NaN</td>\n",
       "      <td>NaN</td>\n",
       "      <td>...</td>\n",
       "      <td>NaN</td>\n",
       "      <td>NaN</td>\n",
       "      <td>NaN</td>\n",
       "      <td>NaN</td>\n",
       "      <td>NaN</td>\n",
       "      <td>NaN</td>\n",
       "      <td>NaN</td>\n",
       "      <td>NaN</td>\n",
       "      <td>NaN</td>\n",
       "      <td>NaN</td>\n",
       "    </tr>\n",
       "  </tbody>\n",
       "</table>\n",
       "<p>5 rows × 31 columns</p>\n",
       "</div>"
      ],
      "text/plain": [
       "                         title name author image language publisher country  \\\n",
       "0  City of Light, City of Dark  NaN    NaN   NaN      NaN       NaN     NaN   \n",
       "1           The Koreans (book)  NaN    NaN   NaN      NaN       NaN     NaN   \n",
       "2       Strangers from the Sky  NaN    NaN   NaN      NaN       NaN     NaN   \n",
       "3      Prime Directive (novel)  NaN    NaN   NaN      NaN       NaN     NaN   \n",
       "4       Gorbunov and Gorchakov  NaN    NaN   NaN      NaN       NaN     NaN   \n",
       "\n",
       "  genre pages isbn  ... congress published dewey title_orig italic title  \\\n",
       "0   NaN   NaN  NaN  ...      NaN       NaN   NaN        NaN          NaN   \n",
       "1   NaN   NaN  NaN  ...      NaN       NaN   NaN        NaN          NaN   \n",
       "2   NaN   NaN  NaN  ...      NaN       NaN   NaN        NaN          NaN   \n",
       "3   NaN   NaN  NaN  ...      NaN       NaN   NaN        NaN          NaN   \n",
       "4   NaN   NaN  NaN  ...      NaN       NaN   NaN        NaN          NaN   \n",
       "\n",
       "  isbn_note illustrator image_size translator english_pub_date  \n",
       "0       NaN         NaN        NaN        NaN              NaN  \n",
       "1       NaN         NaN        NaN        NaN              NaN  \n",
       "2       NaN         NaN        NaN        NaN              NaN  \n",
       "3       NaN         NaN        NaN        NaN              NaN  \n",
       "4       NaN         NaN        NaN        NaN              NaN  \n",
       "\n",
       "[5 rows x 31 columns]"
      ]
     },
     "execution_count": 34,
     "metadata": {},
     "output_type": "execute_result"
    }
   ],
   "source": [
    "num_attr_top = num_attr[:30]\n",
    "\n",
    "data = pd.DataFrame(columns = ['title'] + [x[0] for x in num_attr_top])\n",
    "data['title'] = [x[0] for x in books]\n",
    "data.head()"
   ]
  },
  {
   "cell_type": "code",
   "execution_count": 35,
   "id": "65fb8d6b-9832-4d06-a7ff-0bb0c904a1c3",
   "metadata": {},
   "outputs": [
    {
     "data": {
      "text/plain": [
       "dict_values(['Animal Farm', 'Animal Farm: A Fairy Story', 'Animal Farm - 1st edition.jpg', 'First edition cover', 'George Orwell', 'United Kingdom', 'English', 'Political satire', '17 August 1945 (Secker and Warburg, London, England)', 'Print (hard  &  paperback)', '< !-- First released before ISBN system implemented -- >', '823/.912 20', 'PZ3.O793 An', '3655473', 'Nineteen Eighty-Four', 'Inside the Whale and Other Essays', \"Modern Library's 100 Best Novels \\n NPR: 100 Best Science Fiction and Fantasy Books \\n \\n Hugo Award for Best Short Novel (1946) \\n Prometheus Award – Hall of Fame (2011)\", '92'])"
      ]
     },
     "execution_count": 35,
     "metadata": {},
     "output_type": "execute_result"
    }
   ],
   "source": [
    "book_dict = {book[0]: book[1] for book in books}\n",
    "book_dict['Animal Farm'].values()"
   ]
  },
  {
   "cell_type": "markdown",
   "id": "16253b5b-6046-42ac-9b81-b306867a639c",
   "metadata": {},
   "source": [
    "### Conclusion\n",
    "The analysis of Wikipedia's book data reveals patterns and insights. We observe notable trends in book categories and book attributes. "
   ]
  }
 ],
 "metadata": {
  "kernelspec": {
   "display_name": "Python 3 (ipykernel)",
   "language": "python",
   "name": "python3"
  },
  "language_info": {
   "codemirror_mode": {
    "name": "ipython",
    "version": 3
   },
   "file_extension": ".py",
   "mimetype": "text/x-python",
   "name": "python",
   "nbconvert_exporter": "python",
   "pygments_lexer": "ipython3",
   "version": "3.12.5"
  }
 },
 "nbformat": 4,
 "nbformat_minor": 5
}
